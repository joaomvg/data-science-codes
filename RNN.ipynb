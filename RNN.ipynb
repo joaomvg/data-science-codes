{
 "cells": [
  {
   "cell_type": "code",
   "execution_count": 2,
   "metadata": {},
   "outputs": [],
   "source": [
    "import numpy as np\n",
    "import pandas as pd"
   ]
  },
  {
   "cell_type": "markdown",
   "metadata": {},
   "source": [
    "# RNN"
   ]
  },
  {
   "cell_type": "code",
   "execution_count": 259,
   "metadata": {},
   "outputs": [],
   "source": [
    "class LinearLayer:\n",
    "    def __init__(self,input_dim,out_dim,bias=True):\n",
    "        self.weight=np.random.rand(input_dim,out_dim)\n",
    "        if bias:\n",
    "            self.bias=np.random.rand(out_dim)\n",
    "        else:\n",
    "            self.bias=0\n",
    "\n",
    "    def __call__(self,x):\n",
    "        out=np.matmul(x,self.weight)+self.bias\n",
    "        return out\n",
    "\n",
    "class RNN:\n",
    "    def __init__(self,input_dim,hidden_dim,out_dim):\n",
    "        self.hidden_dim=hidden_dim\n",
    "        self.input_dim=input_dim\n",
    "        self.out_dim=out_dim\n",
    "\n",
    "        self.out_layer=LinearLayer(hidden_dim,out_dim)\n",
    "        self.wx=LinearLayer(input_dim,hidden_dim,bias=False)\n",
    "        self.wh=LinearLayer(hidden_dim,hidden_dim,bias=False)\n",
    "        self.bias=np.random.rand(hidden_dim)\n",
    "        self.g=np.tanh\n",
    "        \n",
    "        self.gradients=None\n",
    "        self.cache=None\n",
    "        \n",
    "        self.parameters={'dh_dwh':self.wh.weight,\n",
    "                         'dh_dwx':self.wx.weight,\n",
    "                         'dh_db':self.bias,\n",
    "                         'dw2':self.out_layer.weight,\n",
    "                         'db2':self.out_layer.bias}\n",
    "        \n",
    "    def __call__(self,x):\n",
    "        hidden=np.zeros(self.hidden_dim)\n",
    "        h=np.zeros((x.shape[0],self.hidden_dim))\n",
    "        \n",
    "        for i,xi in enumerate(x):\n",
    "            h[i]=self.g(self.wx(xi)+self.wh(hidden)+self.bias)\n",
    "            hidden=h[i]\n",
    "        \n",
    "        \n",
    "        out=self.out_layer(h)\n",
    "        self.cache={'hidden':h,'output':out}\n",
    "        \n",
    "        return out\n",
    "    \n",
    "    def grads(self,x,h_t,h_tp1):\n",
    "        mat=np.identity(self.hidden_dim)\n",
    "        np.fill_diagonal(mat,1-h_tp1*h_tp1)\n",
    "        \n",
    "        dh_dwh=np.tensordot(mat,h_t,axes=0) #[hid_dim,hid_dim,hid_dim]\n",
    "        dh_dwx=np.tensordot(mat,x,axes=0) #[hid_dim,hid_dim,input_dim]\n",
    "        dh_dh=np.dot(mat,self.wh.weight) #[hid_dim,hid_dim]\n",
    "        dh_db=mat #[hid_dim,hid_dim]\n",
    "        \n",
    "        return dh_dh, {'dh_dwh':dh_dwh,'dh_dwx':dh_dwx,'dh_db':dh_db}"
   ]
  },
  {
   "cell_type": "markdown",
   "metadata": {},
   "source": [
    "# Loss function"
   ]
  },
  {
   "cell_type": "code",
   "execution_count": 287,
   "metadata": {},
   "outputs": [],
   "source": [
    "class MSE_Loss:\n",
    "    def __init__(self,model):\n",
    "        self.model=model\n",
    "        \n",
    "    def __call__(self,x,y):\n",
    "        y_pred=self.model(x)\n",
    "        loss=y-y_pred\n",
    "        loss=loss*loss\n",
    "        \n",
    "        return loss.mean()\n",
    "    \n",
    "    def backward(self,x,y):\n",
    "        \n",
    "        L=x.shape[0]\n",
    "        h=self.model.cache['hidden']\n",
    "        out=self.model.cache['output']\n",
    "        z=(out-y)/L # (y_pred-y)/N\n",
    "        \n",
    "        w2=self.model.out_layer.weight.T #[out_dim,hidden_dim]\n",
    "        grads_cache={'dh_dwh':[],'dh_dwx':[],'dh_db':[]}\n",
    "        grads_total={'dh_dwh': 0,'dh_dwx': 0,'dh_db': 0}\n",
    "        \n",
    "        hidden=np.zeros(self.model.hidden_dim)\n",
    "        for i,xi in enumerate(x):\n",
    "            \n",
    "            dh_dh,grads=self.model.grads(xi,hidden,h[i])\n",
    "            hidden=h[i]\n",
    "            \n",
    "            for var,grad in grads.items():\n",
    "                wt=np.dot(w2,grad)\n",
    "                grads_cache[var].append(grad)\n",
    "                grads_total[var]+=np.tensordot(z[i],wt,axes=([0],[0]))\n",
    "                \n",
    "            if i>0:\n",
    "                for var in grads_cache.keys():\n",
    "                    temp=[]\n",
    "                    for j, dh in enumerate(grads_cache[var]):\n",
    "                        wt=np.tensordot(dh_dh,dh,axes=([1],[0]))\n",
    "                        temp.append(wt)\n",
    "                        wt2=np.tensordot(w2,wt,axes=([1],[0]))\n",
    "                        a=np.tensordot(z[i],wt2,axes=([0],[0]))\n",
    "                        grads_total[var]+=a\n",
    "                        \n",
    "                    grads_cache[var]=temp[:]\n",
    "        \n",
    "        grads_total['dw2']=np.tensordot(z,h,axes=([0],[0])).T\n",
    "        grads_total['db2']=z.sum(0)\n",
    "        grads_total['dh_dwh']=grads_total['dh_dwh'].T\n",
    "        grads_total['dh_dwx']=grads_total['dh_dwx'].T\n",
    "        \n",
    "        self.model.gradients=grads_total"
   ]
  },
  {
   "cell_type": "markdown",
   "metadata": {},
   "source": [
    "# Optimizer"
   ]
  },
  {
   "cell_type": "code",
   "execution_count": 288,
   "metadata": {},
   "outputs": [],
   "source": [
    "class Optimizer:\n",
    "    def __init__(self,model,lr):\n",
    "        self.model=model\n",
    "        self.lr=lr\n",
    "    \n",
    "    def step(self):\n",
    "        grads=self.model.gradients\n",
    "        \n",
    "        for var in self.model.parameters:\n",
    "            self.model.parameters[var]-=self.lr*grads[var]"
   ]
  },
  {
   "cell_type": "code",
   "execution_count": 260,
   "metadata": {},
   "outputs": [],
   "source": [
    "rnn=RNN(input_dim=2,hidden_dim=3,out_dim=2)"
   ]
  },
  {
   "cell_type": "code",
   "execution_count": 261,
   "metadata": {},
   "outputs": [],
   "source": [
    "loss=MSE_Loss(rnn)"
   ]
  },
  {
   "cell_type": "code",
   "execution_count": 262,
   "metadata": {},
   "outputs": [],
   "source": [
    "y=np.random.normal(0,1,(10,2))"
   ]
  },
  {
   "cell_type": "code",
   "execution_count": 263,
   "metadata": {},
   "outputs": [
    {
     "data": {
      "text/plain": [
       "3.167766031958348"
      ]
     },
     "execution_count": 263,
     "metadata": {},
     "output_type": "execute_result"
    }
   ],
   "source": [
    "loss(x,y)"
   ]
  },
  {
   "cell_type": "code",
   "execution_count": 264,
   "metadata": {},
   "outputs": [],
   "source": [
    "loss.backward(x,y)"
   ]
  },
  {
   "cell_type": "code",
   "execution_count": 318,
   "metadata": {},
   "outputs": [],
   "source": [
    "def train(seqs,targets,model, loss,optimizer,epochs):\n",
    "    \n",
    "    for epoch in range(epochs):\n",
    "        total_loss=0\n",
    "        for seq,target in tqdm(zip(seqs,targets),total=len(seqs)):\n",
    "            ypred=model(seq)\n",
    "            total_loss+=loss(ypred,target)\n",
    "            loss.backward(seq,target)\n",
    "            optimizer.step()\n",
    "        \n",
    "        print('epoch: ',epoch,' Loss: ',total_loss)"
   ]
  },
  {
   "cell_type": "markdown",
   "metadata": {},
   "source": [
    "# Data preparation and Training"
   ]
  },
  {
   "cell_type": "code",
   "execution_count": 242,
   "metadata": {},
   "outputs": [],
   "source": [
    "seq_len=10"
   ]
  },
  {
   "cell_type": "code",
   "execution_count": 415,
   "metadata": {},
   "outputs": [],
   "source": [
    "seqs=[]\n",
    "targets=[]\n",
    "xs=[]\n",
    "for n in range(100):\n",
    "    ts=np.linspace(n*np.pi,(n+1)*np.pi,seq_len+1)\n",
    "    xs.append(ts[:-1])\n",
    "    data=np.sin(ts)\n",
    "    # add noise\n",
    "    data=data.reshape(-1,1)\n",
    "    noise=np.random.normal(0,0.008,data.shape)\n",
    "    data+=noise\n",
    "    \n",
    "    seqs.append(data[:-1])\n",
    "    targets.append(data[1:].reshape(-1,1))"
   ]
  },
  {
   "cell_type": "code",
   "execution_count": 416,
   "metadata": {},
   "outputs": [],
   "source": [
    "rnn=RNN(1,5,1)\n",
    "loss=MSE_Loss(rnn)\n",
    "opt=Optimizer(rnn,lr=0.1)"
   ]
  },
  {
   "cell_type": "code",
   "execution_count": 434,
   "metadata": {},
   "outputs": [
    {
     "name": "stderr",
     "output_type": "stream",
     "text": [
      "100%|██████████| 100/100 [00:00<00:00, 120.81it/s]\n",
      " 11%|█         | 11/100 [00:00<00:00, 107.22it/s]"
     ]
    },
    {
     "name": "stdout",
     "output_type": "stream",
     "text": [
      "epoch:  0  Loss:  2.139028680233493\n"
     ]
    },
    {
     "name": "stderr",
     "output_type": "stream",
     "text": [
      "100%|██████████| 100/100 [00:01<00:00, 88.44it/s]\n",
      "  7%|▋         | 7/100 [00:00<00:01, 66.89it/s]"
     ]
    },
    {
     "name": "stdout",
     "output_type": "stream",
     "text": [
      "epoch:  1  Loss:  2.1096636238535953\n"
     ]
    },
    {
     "name": "stderr",
     "output_type": "stream",
     "text": [
      "100%|██████████| 100/100 [00:01<00:00, 75.00it/s]"
     ]
    },
    {
     "name": "stdout",
     "output_type": "stream",
     "text": [
      "epoch:  2  Loss:  2.081229158924499\n"
     ]
    },
    {
     "name": "stderr",
     "output_type": "stream",
     "text": [
      "\n"
     ]
    }
   ],
   "source": [
    "train(seqs,targets,rnn,loss,opt,3)"
   ]
  },
  {
   "cell_type": "code",
   "execution_count": 293,
   "metadata": {},
   "outputs": [],
   "source": [
    "import matplotlib.pyplot as plt "
   ]
  },
  {
   "cell_type": "code",
   "execution_count": 322,
   "metadata": {},
   "outputs": [],
   "source": [
    "import seaborn as sns\n",
    "sns.set()"
   ]
  },
  {
   "cell_type": "code",
   "execution_count": 418,
   "metadata": {},
   "outputs": [],
   "source": [
    "xs=np.concatenate(xs)"
   ]
  },
  {
   "cell_type": "code",
   "execution_count": 435,
   "metadata": {},
   "outputs": [],
   "source": [
    "data=np.array([])\n",
    "for seq in seqs:\n",
    "    data=np.concatenate([data,seq[:,0]])\n",
    "\n",
    "y_pred=np.array([])\n",
    "for seq in seqs:\n",
    "    y=rnn(seq)\n",
    "    y_pred=np.concatenate([y_pred,y[:,0]])"
   ]
  },
  {
   "cell_type": "code",
   "execution_count": 436,
   "metadata": {},
   "outputs": [
    {
     "data": {
      "image/png": "[encoded data removed]",
      "text/plain": [
       "<Figure size 432x288 with 1 Axes>"
      ]
     },
     "metadata": {},
     "output_type": "display_data"
    }
   ],
   "source": [
    "plt.plot(xs[:21],y_pred[:21],label='prediction')\n",
    "plt.plot(xs[:21],data[:21],label='data')\n",
    "plt.legend()\n",
    "plt.title('RNN, epochs:{}'.format(9))\n",
    "plt.xlabel('t')\n",
    "plt.ylabel('y')\n",
    "#plt.savefig('RNN_9epochs.png')\n",
    "plt.show()"
   ]
  },
  {
   "cell_type": "code",
   "execution_count": null,
   "metadata": {},
   "outputs": [],
   "source": []
  }
 ],
 "metadata": {
  "kernelspec": {
   "display_name": "Python 3",
   "language": "python",
   "name": "python3"
  },
  "language_info": {
   "codemirror_mode": {
    "name": "ipython",
    "version": 3
   },
   "file_extension": ".py",
   "mimetype": "text/x-python",
   "name": "python",
   "nbconvert_exporter": "python",
   "pygments_lexer": "ipython3",
   "version": "3.7.9"
  }
 },
 "nbformat": 4,
 "nbformat_minor": 4
}
