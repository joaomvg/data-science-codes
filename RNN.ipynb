{
 "metadata": {
  "language_info": {
   "codemirror_mode": {
    "name": "ipython",
    "version": 3
   },
   "file_extension": ".py",
   "mimetype": "text/x-python",
   "name": "python",
   "nbconvert_exporter": "python",
   "pygments_lexer": "ipython3",
   "version": "3.6.8-final"
  },
  "orig_nbformat": 2,
  "kernelspec": {
   "name": "python3",
   "display_name": "Python 3",
   "language": "python"
  }
 },
 "nbformat": 4,
 "nbformat_minor": 2,
 "cells": [
  {
   "cell_type": "code",
   "execution_count": 1,
   "metadata": {},
   "outputs": [],
   "source": [
    "import numpy as np\n",
    "import pandas as pd"
   ]
  },
  {
   "cell_type": "code",
   "execution_count": 5,
   "metadata": {},
   "outputs": [
    {
     "output_type": "execute_result",
     "data": {
      "text/plain": [
       "array([0., 0., 0.])"
      ]
     },
     "metadata": {},
     "execution_count": 5
    }
   ],
   "source": [
    "np.zeros(3)"
   ]
  },
  {
   "source": [
    "# RNN"
   ],
   "cell_type": "markdown",
   "metadata": {}
  },
  {
   "cell_type": "code",
   "execution_count": null,
   "metadata": {},
   "outputs": [],
   "source": [
    "class LinearLayer:\n",
    "    def __init__(self,input_dim,out_dim,bias=True):\n",
    "        self.weight=np.random.rand(input_dim,out_dim)\n",
    "        if bias:\n",
    "            self.bias=np.random.rand(out_dim)\n",
    "        else:\n",
    "            self.bias=0\n",
    "\n",
    "    def __cal__(self,x):\n",
    "        out=np.matmul(x,self.weight)+self.bias\n",
    "        return out\n",
    "\n",
    "class RNN:\n",
    "    def __init__(self,input_dim,hidden_dim,out_dim,seq_len):\n",
    "        self.out_layer=LinearLayer(hidden_dim,out_dim)\n",
    "        self.wx=LinearLayer(input_dim,hidden_dim)\n",
    "        self.wh=LinearLayer(hidden_dim,hidden_dim)\n",
    "        self.bias=np.random.rand(hidden_dim)\n",
    "        self.g=np.tanh\n",
    "\n",
    "    def __call__(self,x):\n",
    "        hidden=np.zeros(self.hidden_dim)\n",
    "        h=np.zeros(x.shape[0],self.hidden_dim)\n",
    "        for i,xi in enumerate(x):\n",
    "            h[i]=self.g(self.wx(xi)+self.wh(hidden)+self.bias)\n",
    "            hidden=h[i]\n",
    "        out=self.out_layer(h)\n",
    "\n",
    "        return out\n"
   ]
  }
 ]
}