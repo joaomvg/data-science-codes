{
 "metadata": {
  "language_info": {
   "codemirror_mode": {
    "name": "ipython",
    "version": 3
   },
   "file_extension": ".py",
   "mimetype": "text/x-python",
   "name": "python",
   "nbconvert_exporter": "python",
   "pygments_lexer": "ipython3",
   "version": "3.6.8-final"
  },
  "orig_nbformat": 2,
  "kernelspec": {
   "name": "python3",
   "display_name": "Python 3",
   "language": "python"
  }
 },
 "nbformat": 4,
 "nbformat_minor": 2,
 "cells": [
  {
   "cell_type": "code",
   "execution_count": 1,
   "metadata": {},
   "outputs": [],
   "source": [
    "import numpy as np\n",
    "import pandas as pd"
   ]
  },
  {
   "cell_type": "code",
   "execution_count": 2,
   "metadata": {},
   "outputs": [
    {
     "output_type": "execute_result",
     "data": {
      "text/plain": [
       "array([0., 0., 0.])"
      ]
     },
     "metadata": {},
     "execution_count": 2
    }
   ],
   "source": [
    "np.zeros(3)"
   ]
  },
  {
   "source": [
    "# RNN"
   ],
   "cell_type": "markdown",
   "metadata": {}
  },
  {
   "cell_type": "code",
   "execution_count": 17,
   "metadata": {},
   "outputs": [],
   "source": [
    "class LinearLayer:\n",
    "    def __init__(self,input_dim,out_dim,bias=True):\n",
    "        self.weight=np.random.rand(input_dim,out_dim)\n",
    "        if bias:\n",
    "            self.bias=np.random.rand(out_dim)\n",
    "        else:\n",
    "            self.bias=0\n",
    "\n",
    "    def __call__(self,x):\n",
    "        out=np.matmul(x,self.weight)+self.bias\n",
    "        return out\n",
    "\n",
    "class RNN:\n",
    "    def __init__(self,input_dim,hidden_dim,out_dim):\n",
    "        self.hidden_dim=hidden_dim\n",
    "        self.input_dim=input_dim\n",
    "        self.out_dim=out_dim\n",
    "\n",
    "        self.out_layer=LinearLayer(hidden_dim,out_dim)\n",
    "        self.wx=LinearLayer(input_dim,hidden_dim,bias=False)\n",
    "        self.wh=LinearLayer(hidden_dim,hidden_dim,bias=False)\n",
    "        self.bias=np.random.rand(hidden_dim)\n",
    "        self.g=np.tanh\n",
    "\n",
    "    def __call__(self,x):\n",
    "        hidden=np.zeros(self.hidden_dim)\n",
    "        h=np.zeros((x.shape[0],self.hidden_dim))\n",
    "        for i,xi in enumerate(x):\n",
    "            h[i]=self.g(self.wx(xi)+self.wh(hidden)+self.bias)\n",
    "            hidden=h[i]\n",
    "        out=self.out_layer(h)\n",
    "\n",
    "        return out"
   ]
  },
  {
   "cell_type": "code",
   "execution_count": null,
   "metadata": {},
   "outputs": [],
   "source": [
    "class MSE_Loss:\n",
    "    def __init__(self,model):\n",
    "        self.model=model\n",
    "    def __call__(self,X,y):\n"
   ]
  },
  {
   "cell_type": "code",
   "execution_count": 4,
   "metadata": {},
   "outputs": [],
   "source": [
    "x=np.random.normal(0,1,(10,2))"
   ]
  },
  {
   "cell_type": "code",
   "execution_count": 20,
   "metadata": {},
   "outputs": [],
   "source": [
    "rnn=RNN(input_dim=2,hidden_dim=3,out_dim=3)"
   ]
  },
  {
   "cell_type": "code",
   "execution_count": 21,
   "metadata": {},
   "outputs": [
    {
     "output_type": "execute_result",
     "data": {
      "text/plain": [
       "array([[1.37337956, 1.01521487, 1.29233821],\n",
       "       [1.99024615, 1.52567507, 1.72255715],\n",
       "       [1.99424649, 1.53137724, 1.72807341],\n",
       "       [2.02599203, 1.55564179, 1.74794947],\n",
       "       [1.98787457, 1.52649496, 1.72406589],\n",
       "       [2.01120812, 1.546718  , 1.74141601],\n",
       "       [1.97425704, 1.51492603, 1.71420779],\n",
       "       [2.06964702, 1.59109744, 1.77762817],\n",
       "       [1.86089011, 1.44281418, 1.65957025],\n",
       "       [1.93757369, 1.48884323, 1.69346019]])"
      ]
     },
     "metadata": {},
     "execution_count": 21
    }
   ],
   "source": [
    "rnn(x)"
   ]
  },
  {
   "cell_type": "code",
   "execution_count": null,
   "metadata": {},
   "outputs": [],
   "source": []
  }
 ]
}