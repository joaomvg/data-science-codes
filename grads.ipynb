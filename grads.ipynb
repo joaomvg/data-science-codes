{
 "cells": [
  {
   "cell_type": "code",
   "execution_count": 1,
   "metadata": {},
   "outputs": [],
   "source": [
    "import numpy as np\n",
    "import pandas as pd"
   ]
  },
  {
   "cell_type": "code",
   "execution_count": 2,
   "metadata": {},
   "outputs": [
    {
     "data": {
      "text/plain": "'1.19.2'"
     },
     "execution_count": 2,
     "metadata": {},
     "output_type": "execute_result"
    }
   ],
   "source": [
    "np.__version__"
   ]
  },
  {
   "cell_type": "code",
   "execution_count": 249,
   "metadata": {},
   "outputs": [],
   "source": [
    "class Tensor:\n",
    "    def __init__(self,array,grad=None,requires_grad=False):\n",
    "        \"\"\"\n",
    "        array: numpy array\n",
    "        grad: dic\n",
    "        \"\"\"\n",
    "        self.array=array\n",
    "        self.requires_grad=requires_grad\n",
    "        \n",
    "        if requires_grad:\n",
    "            name=id(self) #use this to identify the tensor\n",
    "            #name of the parameter\n",
    "            self.grad={name: self.make_grad()}\n",
    "        else:\n",
    "            self.grad={'none':0}\n",
    "        if grad is not None:\n",
    "            self.grad=grad\n",
    "\n",
    "    def make_grad(self,):\n",
    "        shape=self.array.shape\n",
    "        Kron=1\n",
    "        for d in shape:\n",
    "            ID=np.identity(d)\n",
    "            Kron=np.tensordot(Kron,ID,axes=0)\n",
    "        new_shape=[i for i in range(0,2*len(shape),2)]\n",
    "        new_shape+=[i for i in range(1,2*len(shape),2)]\n",
    "        Kron=Kron.transpose(new_shape)\n",
    "\n",
    "        return Kron\n",
    "    @property\n",
    "    def shape(self):\n",
    "        return self.array.shape\n",
    "    @property\n",
    "    def ndim(self):\n",
    "        return self.array.ndim\n",
    "    @property\n",
    "    def grad_shape(self):\n",
    "        return self.grad.shape\n",
    "\n",
    "    def __add__(self,x):\n",
    "        result=self.array+x.array\n",
    "\n",
    "        for w in self.grad:\n",
    "            if w not in x.grad:\n",
    "                x.grad[w]=0\n",
    "        for w in x.grad:\n",
    "            if w not in self.grad:\n",
    "                self.grad[w]=0\n",
    "        grad={}\n",
    "        for w in self.grad:\n",
    "            grad[w]=self.grad[w]+x.grad[w]\n",
    "\n",
    "        return Tensor(result,grad=grad)\n",
    "\n",
    "    def __mul__(self,x):\n",
    "        if isinstance(x,int) or isinstance(x,float):\n",
    "            result=x*self.array\n",
    "            grad={}\n",
    "            for w in self.grad:\n",
    "                grad[w]=x*self.grad[w]\n",
    "\n",
    "        if isinstance(x,Tensor):\n",
    "            result=np.tensordot(self.array,x.array,axes=([-1],[0]))\n",
    "\n",
    "            for w in self.grad:\n",
    "                if w not in x.grad:\n",
    "                    x.grad[w]=0\n",
    "            for w in x.grad:\n",
    "                if w not in self.grad:\n",
    "                    self.grad[w]=0\n",
    "\n",
    "            grad={}\n",
    "            for w in self.grad:\n",
    "                if x.grad[w] is 0:\n",
    "                    grad1=0\n",
    "                else:\n",
    "                    grad1=np.tensordot(self.array,x.grad[w],axes=([-1],[0]))\n",
    "                    \n",
    "                if self.grad[w] is 0:\n",
    "                    grad2=0\n",
    "                else:\n",
    "                    i=len(self.array.shape)\n",
    "                    grad2=np.tensordot(self.grad[w],x.array,axes=([i-1],[0]))\n",
    "                    n1=self.grad[w].ndim\n",
    "                    n2=self.array.ndim\n",
    "                    n3=x.array.ndim\n",
    "                    r1=[j for j in range(n2-1)]+[j for j in range(n1-1,n1+n3-2)]\n",
    "                    r2=[j for j in range(n2-1,n1-1)]\n",
    "                    grad2=grad2.transpose(r1+r2)\n",
    "                \n",
    "                grad[w]=grad1+grad2\n",
    "\n",
    "        return Tensor(result,grad=grad)\n",
    "    \"\"\"\n",
    "    def __rmul__(self, x):\n",
    "        if isinstance(x,int) or isinstance(x,float):\n",
    "            result=x*self.array\n",
    "            grad=x*self.grad\n",
    "            return Tensor(result,grad=grad)\n",
    "        if isinstance(x,Tensor):\n",
    "            return self.__mul__(x)\n",
    "    \"\"\"\n",
    "    def sum(self,axis):\n",
    "        result=self.array.sum(axis=axis)\n",
    "        grad={}\n",
    "        for w in self.grad:\n",
    "            if self.grad[w] is not 0:\n",
    "                grad[w]=self.grad[w].sum(axis=axis)\n",
    "            else:\n",
    "                grad[w]=0\n",
    "        return Tensor(result,grad=grad)\n",
    "\n",
    "    def __repr__(self):\n",
    "\n",
    "        return f'Tensor({self.array},dtype {self.array.dtype},requires_grad={self.requires_grad})'"
   ]
  },
  {
   "cell_type": "code",
   "execution_count": 62,
   "metadata": {},
   "outputs": [],
   "source": [
    "class Sigmoid:\n",
    "    \"\"\"\n",
    "    returns: Tensor with gradients\n",
    "    \"\"\"\n",
    "    def __call__(self,x):\n",
    "\n",
    "        out=1/(1+np.exp(-x.array))\n",
    "        grad={}\n",
    "        for w in x.grad:\n",
    "            if x.grad[w] is not 0:\n",
    "                i=x.ndim\n",
    "                l=x.grad[w].ndim\n",
    "                expand=tuple([k for k in range(i,l)])\n",
    "                grad_func=self.grad(x)\n",
    "                grad_func=np.expand_dims(grad_func,axis=expand)\n",
    "                grad[w]=grad_func*x.grad[w]\n",
    "            else:\n",
    "                grad[w]=0\n",
    "\n",
    "        return Tensor(out,grad=grad)\n",
    "\n",
    "    def grad(self,x):\n",
    "        den=(1+np.exp(-x.array))*(1+np.exp(-x.array))\n",
    "        gd=np.exp(-x.array)/den\n",
    "\n",
    "        return gd\n",
    "\n",
    "class Exp:\n",
    "    \"\"\"\n",
    "    returns: Tensor with gradients\n",
    "    \"\"\"\n",
    "    def __call__(self,x):\n",
    "\n",
    "        out=np.exp(x.array)\n",
    "        grad=self.grad(x)*x.grad\n",
    "\n",
    "        return Tensor(out,grad=grad) \n",
    "    \n",
    "    def grad(self,x):\n",
    "        gd=np.exp(x.array)\n",
    "        return gd\n"
   ]
  },
  {
   "cell_type": "markdown",
   "metadata": {},
   "source": [
    "# Feed-foward neural network"
   ]
  },
  {
   "cell_type": "code",
   "execution_count": 250,
   "metadata": {},
   "outputs": [],
   "source": [
    "class LinearLayer:\n",
    "    def __init__(self,in_dim,out_dim,bias=True):\n",
    "        self.in_dim=in_dim\n",
    "        self.out_dim=out_dim\n",
    "\n",
    "        weight_,bias_=self.init_params()\n",
    "\n",
    "        self.weight=Tensor(weight_,requires_grad=True)\n",
    "        self.bias=Tensor(bias_,requires_grad=True)\n",
    "    \n",
    "    def __call__(self,x):\n",
    "        \"\"\"\n",
    "        x: Tensor [batch,in_dim]\n",
    "        \"\"\"\n",
    "        out=x*self.weight+self.bias\n",
    "\n",
    "        return out\n",
    "\n",
    "    def init_params(self):\n",
    "        weight=np.random.rand(self.in_dim,self.out_dim)\n",
    "        bias=np.random.rand(1,self.out_dim)\n",
    "\n",
    "        return weight, bias\n",
    "\n",
    "class FeedForward:\n",
    "\n",
    "    def __init__(self,input_dim,hidden_dim,out_dim=1):\n",
    "        self.in_layer=LinearLayer(input_dim,hidden_dim)\n",
    "        self.out_layer=LinearLayer(hidden_dim,out_dim)\n",
    "        self.sig=Sigmoid()\n",
    "\n",
    "    def __call__(self,x):\n",
    "        out=self.in_layer(x)\n",
    "        out=self.sig(out)\n",
    "        out=self.out_layer(out)\n",
    "        #we assume a two class classification problem\n",
    "        out=self.sig(out)\n",
    "\n",
    "        return out"
   ]
  },
  {
   "cell_type": "code",
   "execution_count": 6,
   "metadata": {},
   "outputs": [],
   "source": [
    "from sklearn.datasets import load_breast_cancer"
   ]
  },
  {
   "cell_type": "code",
   "execution_count": 7,
   "metadata": {},
   "outputs": [],
   "source": [
    "data=load_breast_cancer()"
   ]
  },
  {
   "cell_type": "code",
   "execution_count": 136,
   "metadata": {},
   "outputs": [],
   "source": [
    "x=data['data']\n",
    "y=data['target']"
   ]
  },
  {
   "cell_type": "code",
   "execution_count": 137,
   "metadata": {},
   "outputs": [
    {
     "data": {
      "text/plain": "(569, 30)"
     },
     "execution_count": 137,
     "metadata": {},
     "output_type": "execute_result"
    }
   ],
   "source": [
    "x.shape"
   ]
  },
  {
   "cell_type": "code",
   "execution_count": 256,
   "metadata": {},
   "outputs": [],
   "source": [
    "x_tensor=Tensor(x,requires_grad=False)\n",
    "y_tensor=Tensor(y,requires_grad=False)"
   ]
  },
  {
   "cell_type": "code",
   "execution_count": 255,
   "metadata": {},
   "outputs": [],
   "source": [
    "model=FeedForward(30,10)"
   ]
  },
  {
   "cell_type": "code",
   "execution_count": 257,
   "metadata": {},
   "outputs": [],
   "source": [
    "out=model(x_tensor)"
   ]
  },
  {
   "cell_type": "code",
   "execution_count": 262,
   "metadata": {},
   "outputs": [],
   "source": [
    "L=out.sum(axis=0)"
   ]
  },
  {
   "cell_type": "code",
   "execution_count": 264,
   "metadata": {},
   "outputs": [
    {
     "data": {
      "text/plain": "dict_keys(['none', 140522626309648, 140522626272144, 140522626269392, 140522626270480])"
     },
     "execution_count": 264,
     "metadata": {},
     "output_type": "execute_result"
    }
   ],
   "source": [
    "L.grad.keys()"
   ]
  },
  {
   "cell_type": "code",
   "execution_count": null,
   "metadata": {},
   "outputs": [],
   "source": []
  }
 ],
 "metadata": {
  "kernelspec": {
   "display_name": "Python 3.7.9 64-bit ('python3.8': conda)",
   "metadata": {
    "interpreter": {
     "hash": "737e1139034271fd8ae323238d708ef7c1ca11bdf1a147dd41d83cf012c32c74"
    }
   },
   "name": "python3"
  },
  "language_info": {
   "codemirror_mode": {
    "name": "ipython",
    "version": 3
   },
   "file_extension": ".py",
   "mimetype": "text/x-python",
   "name": "python",
   "nbconvert_exporter": "python",
   "pygments_lexer": "ipython3",
   "version": "3.7.9"
  },
  "orig_nbformat": 2
 },
 "nbformat": 4,
 "nbformat_minor": 2
}