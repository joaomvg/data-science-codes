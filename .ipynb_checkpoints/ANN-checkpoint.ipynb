{
 "cells": [
  {
   "cell_type": "code",
   "execution_count": 1,
   "metadata": {},
   "outputs": [],
   "source": [
    "import multiprocessing as mp\n",
    "import numpy as np\n",
    "import pandas as pd"
   ]
  },
  {
   "cell_type": "code",
   "execution_count": null,
   "metadata": {},
   "outputs": [],
   "source": [
    "class LinearLayer:\n",
    "    def __init__(self,dim_in,dim_out):\n",
    "        self.n_in=dim_in\n",
    "        self.n_out=dim_out\n",
    "        self.weights=np.random.rand(n_in,n_out)\n",
    "        self.bias=np.random.rand(n_out)\n",
    "        \n",
    "    def __call__(self,x):\n",
    "        out=np.matmul(x,self.weights)\n",
    "        out+=self.bias\n",
    "        \n",
    "        return out\n",
    "    \n",
    "    def backward(self,x):\n",
    "        dL=x\n",
    "        \n",
    "        return dL\n",
    "\n",
    "class Sigmoid:\n",
    "    \"sigmoid function\"\n",
    "    \n",
    "    def __call__(self,x):\n",
    "        out=1/(1+np.exp(-x))\n",
    "        \n",
    "        return out\n",
    "    \n",
    "    def backward(self,x):\n",
    "        out=np.exp(-x)/(1+np.exp(-x))**2\n",
    "        return out\n",
    "        \n",
    "class NN:\n",
    "    \n",
    "    def __init__(self,dim_in,hidden_dim,dim_out):\n",
    "        self.layer1=LinearLayer(dim_in,hidden_dim)\n",
    "        self.layer2=LinearLayer(hidden_dim,dim_out)\n",
    "        self.sig=Sigmoid()\n",
    "        \n",
    "    def forward(self,x):\n",
    "        self.out_l1=self.layer1(x)\n",
    "        self.out_s1=self.sig(self.out_l1)\n",
    "        self.out_l2=self.layer2(self.out_s1)\n",
    "        self.out_s2=self.sig(self.out_l2)\n",
    "        \n",
    "        return self.out_s2\n",
    "\n",
    "class logloss:\n",
    "    \n",
    "    def __init__(self,model):\n",
    "        self.model=model\n",
    "        \n",
    "    def __call__(self,x,y):\n",
    "        p=self.model.forward(x)\n",
    "        L=y*np.log(p)+(1-y)*np.log(1-p)\n",
    "        \n",
    "        return L/x.shape[0]\n",
    "    \n",
    "    def backward(self,x,y):\n",
    "        p=model.forward(x)\n",
    "        dL=y/p-(1-y)/p\n",
    "        dL=dL/x.shape[0]\n",
    "        dL=dL*model.sig.backward(model.out_l2)\n",
    "        dw2,db2=np.dot(dL,model.out_s1),dL.sum()\n",
    "        \n",
    "        dw1=model.layer2.weights*model.sig.backward(model.out_l1)\n",
    "        \n",
    "        \n",
    "        "
   ]
  },
  {
   "cell_type": "code",
   "execution_count": 35,
   "metadata": {},
   "outputs": [],
   "source": [
    "c=np.random.rand(2,2)"
   ]
  },
  {
   "cell_type": "code",
   "execution_count": 29,
   "metadata": {},
   "outputs": [
    {
     "data": {
      "text/plain": [
       "1.0002641656503337"
      ]
     },
     "execution_count": 29,
     "metadata": {},
     "output_type": "execute_result"
    }
   ],
   "source": [
    "np.log(2.719)"
   ]
  },
  {
   "cell_type": "code",
   "execution_count": 30,
   "metadata": {},
   "outputs": [],
   "source": [
    "a,b=1,2"
   ]
  },
  {
   "cell_type": "code",
   "execution_count": 33,
   "metadata": {},
   "outputs": [],
   "source": [
    "a=np.array([1,2])"
   ]
  },
  {
   "cell_type": "code",
   "execution_count": 44,
   "metadata": {},
   "outputs": [],
   "source": [
    "a=a.reshape(-1,1)"
   ]
  },
  {
   "cell_type": "code",
   "execution_count": 46,
   "metadata": {},
   "outputs": [
    {
     "data": {
      "text/plain": [
       "array([[2.64423336, 0.50496826]])"
      ]
     },
     "execution_count": 46,
     "metadata": {},
     "output_type": "execute_result"
    }
   ],
   "source": [
    "np.dot(a.T,c)"
   ]
  },
  {
   "cell_type": "code",
   "execution_count": 42,
   "metadata": {},
   "outputs": [
    {
     "data": {
      "text/plain": [
       "2.6442333614862052"
      ]
     },
     "execution_count": 42,
     "metadata": {},
     "output_type": "execute_result"
    }
   ],
   "source": [
    "c[0,0]+2*c[1,0]"
   ]
  },
  {
   "cell_type": "code",
   "execution_count": null,
   "metadata": {},
   "outputs": [],
   "source": []
  }
 ],
 "metadata": {
  "kernelspec": {
   "display_name": "Python 3",
   "language": "python",
   "name": "python3"
  },
  "language_info": {
   "codemirror_mode": {
    "name": "ipython",
    "version": 3
   },
   "file_extension": ".py",
   "mimetype": "text/x-python",
   "name": "python",
   "nbconvert_exporter": "python",
   "pygments_lexer": "ipython3",
   "version": "3.6.8"
  }
 },
 "nbformat": 4,
 "nbformat_minor": 2
}
