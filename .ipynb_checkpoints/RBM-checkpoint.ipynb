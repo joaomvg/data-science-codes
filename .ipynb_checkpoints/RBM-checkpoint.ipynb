{
 "cells": [
  {
   "cell_type": "code",
   "execution_count": 16,
   "metadata": {},
   "outputs": [],
   "source": [
    "import pandas as pd\n",
    "import numpy as np\n",
    "from sklearn.datasets import load_digits\n",
    "import matplotlib.pyplot as plt"
   ]
  },
  {
   "cell_type": "markdown",
   "metadata": {},
   "source": [
    "# MNIST 8x8"
   ]
  },
  {
   "cell_type": "code",
   "execution_count": 2,
   "metadata": {},
   "outputs": [],
   "source": [
    "data=load_digits()"
   ]
  },
  {
   "cell_type": "code",
   "execution_count": 126,
   "metadata": {},
   "outputs": [],
   "source": [
    "mnist_8x8=data['images']"
   ]
  },
  {
   "cell_type": "code",
   "execution_count": 8,
   "metadata": {},
   "outputs": [],
   "source": [
    "target=data['target']"
   ]
  },
  {
   "cell_type": "code",
   "execution_count": 696,
   "metadata": {},
   "outputs": [
    {
     "data": {
      "text/plain": [
       "<Figure size 432x288 with 0 Axes>"
      ]
     },
     "metadata": {},
     "output_type": "display_data"
    },
    {
     "data": {
      "image/png": "[encoded data removed]",
      "text/plain": [
       "<Figure size 288x288 with 1 Axes>"
      ]
     },
     "metadata": {},
     "output_type": "display_data"
    }
   ],
   "source": [
    "plt.gray()\n",
    "plt.matshow(vis_8x8[100].reshape(8,8))\n",
    "plt.show()"
   ]
  },
  {
   "cell_type": "code",
   "execution_count": 691,
   "metadata": {},
   "outputs": [
    {
     "data": {
      "text/plain": [
       "<matplotlib.image.AxesImage at 0x7fb12b22b780>"
      ]
     },
     "execution_count": 691,
     "metadata": {},
     "output_type": "execute_result"
    },
    {
     "data": {
      "image/png": "[encoded data removed]",
      "text/plain": [
       "<Figure size 288x288 with 1 Axes>"
      ]
     },
     "metadata": {},
     "output_type": "display_data"
    }
   ],
   "source": [
    "plt.matshow(mnist_8x8[5])"
   ]
  },
  {
   "cell_type": "markdown",
   "metadata": {},
   "source": [
    "# MNIST 28x28"
   ]
  },
  {
   "cell_type": "code",
   "execution_count": 24,
   "metadata": {},
   "outputs": [],
   "source": [
    "from sklearn.datasets import fetch_openml"
   ]
  },
  {
   "cell_type": "code",
   "execution_count": 25,
   "metadata": {},
   "outputs": [],
   "source": [
    "mnist_28x28, y = fetch_openml('mnist_784', version=1, return_X_y=True, as_frame=False)"
   ]
  },
  {
   "cell_type": "code",
   "execution_count": 130,
   "metadata": {},
   "outputs": [
    {
     "data": {
      "text/plain": [
       "<Figure size 432x288 with 0 Axes>"
      ]
     },
     "metadata": {},
     "output_type": "display_data"
    },
    {
     "data": {
      "image/png": "[encoded data removed]",
      "text/plain": [
       "<Figure size 288x288 with 1 Axes>"
      ]
     },
     "metadata": {},
     "output_type": "display_data"
    }
   ],
   "source": [
    "plt.gray()\n",
    "plt.matshow(mnist_28x28[90].reshape(28,28))\n",
    "plt.show()"
   ]
  },
  {
   "cell_type": "code",
   "execution_count": 31,
   "metadata": {},
   "outputs": [
    {
     "data": {
      "text/plain": [
       "array(['5', '0', '4', ..., '4', '5', '6'], dtype=object)"
      ]
     },
     "execution_count": 31,
     "metadata": {},
     "output_type": "execute_result"
    }
   ],
   "source": [
    "y"
   ]
  },
  {
   "cell_type": "markdown",
   "metadata": {},
   "source": [
    "# Restricted Boltzmann Machine"
   ]
  },
  {
   "cell_type": "code",
   "execution_count": 1000,
   "metadata": {},
   "outputs": [],
   "source": [
    "class RBM:\n",
    "    def __init__(self,vis_dim,hidden_dim):\n",
    "        self.vis_dim=vis_dim\n",
    "        self.hidden_dim=hidden_dim\n",
    "        self.weight=np.random.normal(0,0.001,(vis_dim,hidden_dim))\n",
    "        self.bias_vis=np.random.normal(0,0.001,vis_dim)\n",
    "        self.bias_hid=np.random.normal(0,0.001,hidden_dim)\n",
    "        \n",
    "    def prob_h_v(self,vis_vec):\n",
    "        \n",
    "        probs=1+np.exp(self.bias_hid+np.matmul(vis_vec,self.weight))\n",
    "        \n",
    "        return 1/probs\n",
    "    \n",
    "    def prob_v_h(self,hid_vec):\n",
    "        \n",
    "        probs=1+np.exp(self.bias_vis+np.matmul(hid_vec,self.weight.T))\n",
    "        \n",
    "        return 1/probs\n",
    "    \n",
    "    def Pv(self,vis_vec):\n",
    "        \n",
    "        self.Z()\n",
    "        p=self.__phi(vis_vec)/self.Z_\n",
    "        \n",
    "        return p\n",
    "    \n",
    "    def __phi(self,vis_vec):\n",
    "        \n",
    "        p=np.exp(-np.matmul(vis_vec,self.bias_vis))\n",
    "        t=1+np.exp(-self.bias_hid-np.matmul(vis_vec,self.weight))\n",
    "        p=p*np.prod(t,axis=1)\n",
    "        \n",
    "        return p\n",
    "    \n",
    "    def pseudoLL(self,X):\n",
    "        \n",
    "        phis=self.__phi(X)\n",
    "        pseudo=np.zeros(X.shape[0])\n",
    "        temp=X.copy()\n",
    "        for i in range(X.shape[1]):\n",
    "            #flip\n",
    "            temp[:,i]=np.abs(temp[:,i]-1)\n",
    "            Z=phis+self.__phi(temp)\n",
    "            pseudo+=np.log(phis/Z)\n",
    "            #flip again\n",
    "            temp[:,i]=np.abs(temp[:,i]-1)\n",
    "        \n",
    "        return -pseudo\n",
    "        \n",
    "    def Z(self,n=10000):\n",
    "        vis_rand=np.random.rand(n,self.vis_dim)\n",
    "        vis=(vis_rand<=0.5).astype('int')\n",
    "        self.Z_=self.__phi(vis).mean()\n",
    "        \n",
    "    def gibbs(self,X,k=5):\n",
    "        vec=X.copy()\n",
    "        for i in range(k):\n",
    "            prob_hid=self.prob_h_v(vec)\n",
    "            rand=np.random.rand(vec.shape[0],self.hidden_dim)\n",
    "            hid_vec=(rand<=prob_hid).astype('int')\n",
    "            prob_vis=self.prob_v_h(hid_vec)\n",
    "            rand=np.random.rand(vec.shape[0],self.vis_dim)\n",
    "            vec=(rand<=prob_vis).astype('int')\n",
    "\n",
    "        return vec"
   ]
  },
  {
   "cell_type": "code",
   "execution_count": 1001,
   "metadata": {},
   "outputs": [],
   "source": [
    "class LogLoss:\n",
    "    def __init__(self,model):\n",
    "        self.model=model\n",
    "        \n",
    "    def __call__(self,X):\n",
    "        pseudo=self.model.pseudoLL(X)\n",
    "        \n",
    "        return pseudo.sum()       "
   ]
  },
  {
   "cell_type": "code",
   "execution_count": 967,
   "metadata": {},
   "outputs": [],
   "source": [
    "class Optimizer:\n",
    "    def __init__(self,model,lr=0.001):\n",
    "        self.model=model\n",
    "        self.lr=lr\n",
    "        \n",
    "    def step(self,vis_batch,k=100):\n",
    "        \n",
    "        hid_prob=self.model.prob_h_v(vis_batch)\n",
    "        hid_rand=np.random.rand(vis_batch.shape[0],self.model.hidden_dim)\n",
    "        hid_data=(hid_rand<=hid_prob).astype('int')\n",
    "        \n",
    "        vis_model=vis_batch.copy()\n",
    "        for i in range(k):\n",
    "            hid_prob=self.model.prob_h_v(vis_model)\n",
    "            hid_rand=np.random.rand(vis_batch.shape[0],self.model.hidden_dim)\n",
    "            hid_model=(hid_rand<=hid_prob).astype('int')\n",
    "        \n",
    "            vis_prob=self.model.prob_v_h(hid_model)\n",
    "            vis_rand=np.random.rand(vis_batch.shape[0],self.model.vis_dim)\n",
    "            vis_model=(vis_rand<=vis_prob).astype('int')\n",
    "        \n",
    "        hv_data=np.matmul(vis_batch.T,hid_data)\n",
    "        hv_data=hv_data/vis_batch.shape[0]\n",
    "        \n",
    "        hv_model=np.matmul(vis_model.T,hid_model)\n",
    "        hv_model=hv_model/vis_batch.shape[0]\n",
    "        \n",
    "        self.model.weight-=self.lr*(hv_data-hv_model)\n",
    "        self.model.bias_vis-=self.lr*(vis_batch.mean(0)-vis_model.mean(0))\n",
    "        self.model.bias_hid-=self.lr*(hid_data.mean(0)-hid_model.mean(0))"
   ]
  },
  {
   "cell_type": "code",
   "execution_count": 929,
   "metadata": {},
   "outputs": [],
   "source": [
    "class DataLoader:\n",
    "    def __init__(self,X,batch_size):\n",
    "        self.data=X.copy()\n",
    "        self.L=X.shape[0]\n",
    "        self.size=batch_size\n",
    "    \n",
    "    def __len__(self):\n",
    "        return self.L\n",
    "    \n",
    "    def __iter__(self):\n",
    "        np.random.shuffle(self.data)\n",
    "        if self.L%self.size==0:\n",
    "            k=self.L//self.size\n",
    "        else:\n",
    "            k=self.L//self.size+1\n",
    "            \n",
    "        for i in range(k):\n",
    "            j=i*self.size\n",
    "            yield self.data[j:j+self.size]"
   ]
  },
  {
   "cell_type": "code",
   "execution_count": 716,
   "metadata": {},
   "outputs": [],
   "source": [
    "class VisibleGen:\n",
    "    def __init__(self,data,norm):\n",
    "        if len(data.shape)==3:\n",
    "            self.data=data.reshape(data.shape[0],data.shape[1]*data.shape[2])\n",
    "        else:\n",
    "            self.data=data\n",
    "        self.norm=norm\n",
    "        \n",
    "    def make_visible(self):\n",
    "        self.data=self.data/self.norm\n",
    "        rand=np.random.rand(self.data.shape[0],self.data.shape[1])\n",
    "        visible=(rand<=self.data).astype('int')\n",
    "        \n",
    "        return visible"
   ]
  },
  {
   "cell_type": "code",
   "execution_count": 1038,
   "metadata": {},
   "outputs": [],
   "source": [
    "def train(data_loader,optimizer,loss,epochs=50,it=0):\n",
    "    \n",
    "    for epoch in range(epochs):\n",
    "        total_loss=0\n",
    "        for batch in data_loader:\n",
    "            L=loss(batch)\n",
    "            optimizer.step(batch)\n",
    "            total_loss+=L\n",
    "        total_loss=total_loss/len(data_loader)\n",
    "        print('epoch: ',epoch+it*10,', Pseudo-Loss: ',total_loss)"
   ]
  },
  {
   "cell_type": "markdown",
   "metadata": {},
   "source": [
    "## Mnist 28x28"
   ]
  },
  {
   "cell_type": "code",
   "execution_count": 1003,
   "metadata": {},
   "outputs": [],
   "source": [
    "idx=np.arange(mnist_28x28.shape[0])"
   ]
  },
  {
   "cell_type": "code",
   "execution_count": 1004,
   "metadata": {},
   "outputs": [],
   "source": [
    "sample=np.random.choice(idx,2000, replace=False)"
   ]
  },
  {
   "cell_type": "code",
   "execution_count": 1005,
   "metadata": {},
   "outputs": [],
   "source": [
    "sample_img=mnist_28x28[sample]"
   ]
  },
  {
   "cell_type": "code",
   "execution_count": 1006,
   "metadata": {},
   "outputs": [
    {
     "data": {
      "text/plain": [
       "(2000, 784)"
      ]
     },
     "execution_count": 1006,
     "metadata": {},
     "output_type": "execute_result"
    }
   ],
   "source": [
    "sample_img.shape"
   ]
  },
  {
   "cell_type": "code",
   "execution_count": 1007,
   "metadata": {},
   "outputs": [],
   "source": [
    "vis_28x28=VisibleGen(sample_img,255)"
   ]
  },
  {
   "cell_type": "code",
   "execution_count": 1008,
   "metadata": {},
   "outputs": [],
   "source": [
    "vis_28x28=vis_28x28.make_visible()"
   ]
  },
  {
   "cell_type": "code",
   "execution_count": 1009,
   "metadata": {},
   "outputs": [],
   "source": [
    "vis_28x28_loader=DataLoader(vis_28x28,10)"
   ]
  },
  {
   "cell_type": "code",
   "execution_count": 1039,
   "metadata": {},
   "outputs": [],
   "source": [
    "rbm_28x28=RBM(784,100)\n",
    "loss=LogLoss(rbm_28x28)\n",
    "opt=Optimizer(rbm_28x28,lr=0.01)"
   ]
  },
  {
   "cell_type": "code",
   "execution_count": 1041,
   "metadata": {},
   "outputs": [
    {
     "name": "stdout",
     "output_type": "stream",
     "text": [
      "epoch:  0 , Pseudo-Loss:  285.5230946835662\n",
      "epoch:  1 , Pseudo-Loss:  210.0695568888639\n",
      "epoch:  2 , Pseudo-Loss:  182.36551709400175\n",
      "epoch:  3 , Pseudo-Loss:  168.78895063743005\n",
      "epoch:  4 , Pseudo-Loss:  161.1382614628875\n",
      "epoch:  5 , Pseudo-Loss:  155.3661003648078\n",
      "epoch:  6 , Pseudo-Loss:  150.63585438150105\n",
      "epoch:  7 , Pseudo-Loss:  146.4091508490561\n",
      "epoch:  8 , Pseudo-Loss:  142.8067569590633\n",
      "epoch:  9 , Pseudo-Loss:  139.86343135814727\n"
     ]
    }
   ],
   "source": [
    "train(vis_28x28_loader,opt,loss,epochs=10,it=0)"
   ]
  },
  {
   "cell_type": "code",
   "execution_count": 1042,
   "metadata": {},
   "outputs": [],
   "source": [
    "xx = vis_28x28[:40].copy()\n",
    "for ii in range(100):\n",
    "    for n in range(40):\n",
    "        xx[n] = rbm_28x28.gibbs(xx[n:n+1])"
   ]
  },
  {
   "cell_type": "code",
   "execution_count": 1030,
   "metadata": {},
   "outputs": [],
   "source": [
    "def gen_mnist_image(X):\n",
    "    return np.rollaxis(\n",
    "        np.rollaxis(X[0:200].reshape(10, -1, 28, 28), 0, 2), 1, 3).reshape(-1, 10 * 28)"
   ]
  },
  {
   "cell_type": "code",
   "execution_count": 1044,
   "metadata": {},
   "outputs": [
    {
     "data": {
      "image/png": "[encoded data removed]",
      "text/plain": [
       "<Figure size 2880x1440 with 1 Axes>"
      ]
     },
     "metadata": {},
     "output_type": "display_data"
    }
   ],
   "source": [
    "plt.figure(figsize=(40,20))\n",
    "plt.imshow(gen_mnist_image(xx))\n",
    "plt.savefig('../joaomvg.github.io/content/images/rbm_train_10.png')\n",
    "plt.show()"
   ]
  },
  {
   "cell_type": "code",
   "execution_count": 1017,
   "metadata": {},
   "outputs": [
    {
     "data": {
      "text/plain": [
       "(40, 784)"
      ]
     },
     "execution_count": 1017,
     "metadata": {},
     "output_type": "execute_result"
    }
   ],
   "source": [
    "xx.shape"
   ]
  },
  {
   "cell_type": "code",
   "execution_count": 1019,
   "metadata": {},
   "outputs": [
    {
     "data": {
      "text/plain": [
       "<Figure size 2880x1440 with 0 Axes>"
      ]
     },
     "metadata": {},
     "output_type": "display_data"
    },
    {
     "data": {
      "image/png": "[encoded data removed]",
      "text/plain": [
       "<Figure size 288x288 with 1 Axes>"
      ]
     },
     "metadata": {},
     "output_type": "display_data"
    }
   ],
   "source": [
    "plt.figure(figsize=(40,20))\n",
    "plt.matshow(xx[3].reshape(28,28))\n",
    "plt.show()"
   ]
  },
  {
   "cell_type": "markdown",
   "metadata": {},
   "source": [
    "# SKlearn RBM"
   ]
  },
  {
   "cell_type": "code",
   "execution_count": 306,
   "metadata": {},
   "outputs": [],
   "source": [
    "from sklearn.neural_network import BernoulliRBM"
   ]
  },
  {
   "cell_type": "code",
   "execution_count": 831,
   "metadata": {},
   "outputs": [],
   "source": [
    "rbm = BernoulliRBM(n_components=100, learning_rate=0.01, random_state=0, verbose=False,n_iter=50)"
   ]
  },
  {
   "cell_type": "code",
   "execution_count": 832,
   "metadata": {},
   "outputs": [
    {
     "data": {
      "text/plain": [
       "BernoulliRBM(learning_rate=0.01, n_components=100, n_iter=50, random_state=0,\n",
       "             verbose=False)"
      ]
     },
     "execution_count": 832,
     "metadata": {},
     "output_type": "execute_result"
    }
   ],
   "source": [
    "rbm.fit(vis_28x28)"
   ]
  },
  {
   "cell_type": "code",
   "execution_count": 797,
   "metadata": {},
   "outputs": [
    {
     "data": {
      "text/plain": [
       "-104.56164536232917"
      ]
     },
     "execution_count": 797,
     "metadata": {},
     "output_type": "execute_result"
    }
   ],
   "source": [
    "rbm.score_samples(vis_28x28).mean()"
   ]
  },
  {
   "cell_type": "code",
   "execution_count": 833,
   "metadata": {},
   "outputs": [],
   "source": [
    "xx = vis_28x28[:40].copy()\n",
    "for ii in range(100):\n",
    "    for n in range(40):\n",
    "        xx[n] = rbm.gibbs(xx[n])"
   ]
  },
  {
   "cell_type": "code",
   "execution_count": 834,
   "metadata": {},
   "outputs": [
    {
     "data": {
      "text/plain": [
       "<matplotlib.image.AxesImage at 0x7fb12fede0f0>"
      ]
     },
     "execution_count": 834,
     "metadata": {},
     "output_type": "execute_result"
    },
    {
     "data": {
      "image/png": "[encoded data removed]",
      "text/plain": [
       "<Figure size 720x1440 with 1 Axes>"
      ]
     },
     "metadata": {},
     "output_type": "display_data"
    }
   ],
   "source": [
    "plt.figure(figsize=(10,20))\n",
    "plt.imshow(gen_mnist_image(xx,28))"
   ]
  },
  {
   "cell_type": "code",
   "execution_count": 398,
   "metadata": {},
   "outputs": [],
   "source": [
    "rbm_8x8.weight=rbm.components_.T\n",
    "rbm_8x8.bias_hid=rbm.intercept_hidden_\n",
    "rbm_8x8.bias_vis=rbm.intercept_visible_"
   ]
  },
  {
   "cell_type": "code",
   "execution_count": 399,
   "metadata": {},
   "outputs": [
    {
     "data": {
      "text/plain": [
       "-23.265730015603577"
      ]
     },
     "execution_count": 399,
     "metadata": {},
     "output_type": "execute_result"
    }
   ],
   "source": [
    "rbm.score_samples(vis_8x8[0:]).mean()"
   ]
  },
  {
   "cell_type": "code",
   "execution_count": 432,
   "metadata": {},
   "outputs": [
    {
     "data": {
      "text/plain": [
       "451.94085168286347"
      ]
     },
     "execution_count": 432,
     "metadata": {},
     "output_type": "execute_result"
    }
   ],
   "source": [
    "loss(vis_8x8[0:100])"
   ]
  },
  {
   "cell_type": "code",
   "execution_count": null,
   "metadata": {},
   "outputs": [],
   "source": []
  }
 ],
 "metadata": {
  "kernelspec": {
   "display_name": "Python 3",
   "language": "python",
   "name": "python3"
  },
  "language_info": {
   "codemirror_mode": {
    "name": "ipython",
    "version": 3
   },
   "file_extension": ".py",
   "mimetype": "text/x-python",
   "name": "python",
   "nbconvert_exporter": "python",
   "pygments_lexer": "ipython3",
   "version": "3.6.8"
  }
 },
 "nbformat": 4,
 "nbformat_minor": 2
}
