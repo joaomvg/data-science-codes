{
 "cells": [
  {
   "cell_type": "code",
   "execution_count": 2,
   "metadata": {},
   "outputs": [],
   "source": [
    "import pandas as pd\n",
    "import numpy as np\n",
    "import multiprocessing as mp"
   ]
  },
  {
   "cell_type": "code",
   "execution_count": 3,
   "metadata": {},
   "outputs": [],
   "source": [
    "class Kmeans:\n",
    "    \"\"\"\n",
    "    KMeans algorithm:\n",
    "    * initialization: assigns random positions to clusters given mean\n",
    "    and standard deviation of data\n",
    "    \"\"\"\n",
    "    def __init__(self,n_clusters=5,epsilon=0.01):\n",
    "        self.n_clusters=n_clusters\n",
    "        self.epsilon=epsilon\n",
    "     \n",
    "    #determine new means given clusters\n",
    "    def __means(self,x):\n",
    "        distances=[]\n",
    "        for x_cl in self.clusters_centers:\n",
    "            d=x-x_cl\n",
    "            d=(d*d).sum(1)\n",
    "            d=np.sqrt(d)\n",
    "            distances.append(d.reshape(-1,1))\n",
    "        distances=np.concatenate(distances,axis=1)\n",
    "        self.clusters=distances.argmin(1)\n",
    "        \n",
    "        #re-evaluate cluster centers\n",
    "        deviation=[]\n",
    "        for i in range(self.n_clusters):\n",
    "            idx=(self.clusters==i)\n",
    "            i_mean=x[idx].mean(0)\n",
    "            \n",
    "            dev_=self.clusters_centers[i]-i_mean\n",
    "            dev_=(dev_*dev_).sum()\n",
    "            deviation.append(np.sqrt(dev_))\n",
    "            \n",
    "            self.clusters_centers[i]=i_mean\n",
    "        \n",
    "        return np.array(deviation)\n",
    "    \n",
    "    def fit(self,x):\n",
    "        std_dev=x.std(0)\n",
    "        idx=np.random.choice(np.arange(x.shape[0]),self.n_clusters,replace=False)\n",
    "        self.clusters_centers=x[idx]+std_dev\n",
    "        self.clusters=[]\n",
    "        \n",
    "        not_converged=True\n",
    "        while not_converged:\n",
    "            \n",
    "            deviations=self.__means(x)\n",
    "            deviations=np.abs(deviations)\n",
    "            if (deviations>=self.epsilon).sum()==0:\n",
    "                not_converged=False\n",
    "                print('Converged')"
   ]
  },
  {
   "cell_type": "code",
   "execution_count": 4,
   "metadata": {},
   "outputs": [],
   "source": [
    "x1=np.random.normal(0,1,(100,2))\n",
    "x2=np.random.normal(1,1,(100,2))\n",
    "x3=np.random.normal(2,1,(100,2))\n",
    "x4=np.random.normal(3,1,(100,2))\n",
    "x5=np.random.normal(4,1,(100,2))\n",
    "\n",
    "x=np.concatenate((x1,x2,x3,x4,x5))"
   ]
  },
  {
   "cell_type": "code",
   "execution_count": 5,
   "metadata": {},
   "outputs": [],
   "source": [
    "kmeans=Kmeans(5,0.001)"
   ]
  },
  {
   "cell_type": "code",
   "execution_count": 6,
   "metadata": {},
   "outputs": [
    {
     "name": "stdout",
     "output_type": "stream",
     "text": [
      "Converged\n"
     ]
    }
   ],
   "source": [
    "kmeans.fit(x)"
   ]
  },
  {
   "cell_type": "code",
   "execution_count": null,
   "metadata": {},
   "outputs": [],
   "source": [
    "kmeans.clusters"
   ]
  },
  {
   "cell_type": "code",
   "execution_count": 8,
   "metadata": {},
   "outputs": [
    {
     "data": {
      "text/plain": [
       "array([[ 0.87682169,  1.79857893],\n",
       "       [ 4.51959439,  3.91503735],\n",
       "       [ 2.92177033,  1.52078147],\n",
       "       [ 0.25534296, -0.24810257],\n",
       "       [ 2.8146445 ,  3.8743067 ]])"
      ]
     },
     "execution_count": 8,
     "metadata": {},
     "output_type": "execute_result"
    }
   ],
   "source": [
    "kmeans.clusters_centers"
   ]
  },
  {
   "cell_type": "code",
   "execution_count": null,
   "metadata": {},
   "outputs": [],
   "source": []
  }
 ],
 "metadata": {
  "kernelspec": {
   "display_name": "Python 3",
   "language": "python",
   "name": "python3"
  },
  "language_info": {
   "codemirror_mode": {
    "name": "ipython",
    "version": 3
   },
   "file_extension": ".py",
   "mimetype": "text/x-python",
   "name": "python",
   "nbconvert_exporter": "python",
   "pygments_lexer": "ipython3",
   "version": "3.7.9"
  },
  "toc-autonumbering": true
 },
 "nbformat": 4,
 "nbformat_minor": 4
}
