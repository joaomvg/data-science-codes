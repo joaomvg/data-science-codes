{
 "cells": [
  {
   "cell_type": "code",
   "execution_count": 196,
   "metadata": {},
   "outputs": [],
   "source": [
    "import pandas as pd\n",
    "import numpy as np\n",
    "import progressbar"
   ]
  },
  {
   "cell_type": "code",
   "execution_count": 12,
   "metadata": {},
   "outputs": [],
   "source": [
    "import matplotlib.pyplot as plt"
   ]
  },
  {
   "cell_type": "code",
   "execution_count": 199,
   "metadata": {},
   "outputs": [],
   "source": [
    "x=np.random.normal(0,2,(1000000,10))"
   ]
  },
  {
   "cell_type": "code",
   "execution_count": 200,
   "metadata": {},
   "outputs": [],
   "source": [
    "w=np.random.normal(0,3,10)\n",
    "h=np.random.normal(0,10,10)"
   ]
  },
  {
   "cell_type": "code",
   "execution_count": 201,
   "metadata": {},
   "outputs": [],
   "source": [
    "y=np.tanh(x.dot(w))+x.dot(h)"
   ]
  },
  {
   "cell_type": "code",
   "execution_count": 202,
   "metadata": {},
   "outputs": [],
   "source": [
    "indices=np.arange(x.shape[0])\n",
    "np.random.shuffle(indices)"
   ]
  },
  {
   "cell_type": "code",
   "execution_count": 203,
   "metadata": {},
   "outputs": [],
   "source": [
    "y=y+np.random.normal(0,1,y.shape[0])"
   ]
  },
  {
   "cell_type": "code",
   "execution_count": 169,
   "metadata": {},
   "outputs": [],
   "source": [
    "from sklearn.tree import DecisionTreeRegressor"
   ]
  },
  {
   "cell_type": "code",
   "execution_count": 172,
   "metadata": {},
   "outputs": [],
   "source": [
    "params={'criterion': 'mse',\n",
    " 'max_depth': None,\n",
    " 'max_features': None,\n",
    " 'max_leaf_nodes': None,\n",
    " 'min_impurity_decrease': 0.0,\n",
    " 'min_impurity_split': None,\n",
    " 'min_samples_leaf': 1,\n",
    " 'min_samples_split': 2,\n",
    " 'min_weight_fraction_leaf': 0.0,\n",
    " 'presort': False,\n",
    " 'random_state': None,\n",
    " 'splitter': 'best'}"
   ]
  },
  {
   "cell_type": "code",
   "execution_count": 197,
   "metadata": {},
   "outputs": [
    {
     "name": "stderr",
     "output_type": "stream",
     "text": [
      "100% (5 of 5) |##########################| Elapsed Time: 0:04:24 Time:  0:04:24\n"
     ]
    }
   ],
   "source": [
    "max_features=[1,3,5,7,10]\n",
    "complexity={}\n",
    "for f in progressbar.progressbar(max_features):\n",
    "    complexity[f]=[]\n",
    "    params['max_features']=f\n",
    "    for d in range(1,11):\n",
    "        params['max_depth']=d\n",
    "        TR=DecisionTreeRegressor(**params)\n",
    "        TR.fit(x,y)\n",
    "        mse=mean_squared_error(TR.predict(x),y)\n",
    "        complexity[f].append((d,np.sqrt(mse)))"
   ]
  },
  {
   "cell_type": "code",
   "execution_count": 205,
   "metadata": {},
   "outputs": [
    {
     "name": "stderr",
     "output_type": "stream",
     "text": [
      "100% (5 of 5) |##########################| Elapsed Time: 0:05:51 Time:  0:05:51\n"
     ]
    }
   ],
   "source": [
    "max_features=[1,3,5,7,10]\n",
    "error={}\n",
    "bias={}\n",
    "var={}\n",
    "idx=np.random.choice(indices,1,replace=False)\n",
    "x0=x[idx]\n",
    "y0=y[idx]\n",
    "for f in progressbar.progressbar(max_features):\n",
    "    error[f]={}\n",
    "    bias[f]={}\n",
    "    var[f]={}\n",
    "    params['max_features']=f\n",
    "    for d in range(1,11):\n",
    "        params['max_depth']=d\n",
    "        error[f][d]=[]\n",
    "        bias[f][d]=[]\n",
    "        var[f][d]=[]\n",
    "        TR=DecisionTreeRegressor(**params)\n",
    "        for i in range(100):\n",
    "            idx=np.random.choice(indices,10**4,replace=False)\n",
    "            train_x=x[idx]\n",
    "            train_y=y[idx]\n",
    "            TR.fit(train_x,train_y)\n",
    "            mse=mean_squared_error(TR.predict(x0),y0)\n",
    "            error[f][d].append(mse)\n",
    "            bias[f][d].append(TR.predict(x0)-y0)\n",
    "            fhat=TR.predict(x0)\n",
    "            var[f][d].append(fhat)"
   ]
  },
  {
   "cell_type": "code",
   "execution_count": 206,
   "metadata": {},
   "outputs": [
    {
     "data": {
      "text/plain": [
       "[59.32237058902254,\n",
       " 17.72047684924813,\n",
       " 94.3160932669314,\n",
       " 1053.504097834853,\n",
       " 64.70806943036189,\n",
       " 2890.907862370294,\n",
       " 1634.6910059678787,\n",
       " 99.85211357261238,\n",
       " 335.3393362780742,\n",
       " 1.0138929373028918,\n",
       " 99.16653107657255,\n",
       " 1386.988045310387,\n",
       " 1395.8191578955364,\n",
       " 179.12432868244048,\n",
       " 268.78767106006734,\n",
       " 251.87702827386227,\n",
       " 358.68824402123124,\n",
       " 465.5867659587088,\n",
       " 81.52611261918241,\n",
       " 0.11737526003006467,\n",
       " 1384.6915184678219,\n",
       " 294.58339680072055,\n",
       " 494.62000491298204,\n",
       " 81.7123297928241,\n",
       " 148.16569884540007,\n",
       " 255.57543467032153,\n",
       " 60.076622338721705,\n",
       " 25.531525036310697,\n",
       " 463.29974719302857,\n",
       " 2891.696477473339,\n",
       " 2.571805959416762,\n",
       " 1248.5885107940062,\n",
       " 496.88523274937666,\n",
       " 1711.4489570918452,\n",
       " 1845.5340190388267,\n",
       " 2822.972996046143,\n",
       " 1175.0236198434286,\n",
       " 446.7929429990461,\n",
       " 3.6563479780813095,\n",
       " 3.5755636425268795,\n",
       " 107.75539741177994,\n",
       " 10.911724492340896,\n",
       " 1274.0472152432662,\n",
       " 5.725071821971667,\n",
       " 507.5805492542138,\n",
       " 17.46187858275696,\n",
       " 624.6165629072012,\n",
       " 2087.1949904565113,\n",
       " 3913.4523291743017,\n",
       " 3.2029422611860228,\n",
       " 363.12181892645816,\n",
       " 191.95927248266116,\n",
       " 2371.026369644993,\n",
       " 434.3389694010885,\n",
       " 946.6769405567046,\n",
       " 519.2728022197166,\n",
       " 57.05465839568689,\n",
       " 3381.8591761993116,\n",
       " 3082.7149876479903,\n",
       " 2517.843479309062,\n",
       " 1275.8391286436267,\n",
       " 1202.192571056986,\n",
       " 974.0727787901089,\n",
       " 20.322198093889313,\n",
       " 1073.3254860911104,\n",
       " 1091.886815624701,\n",
       " 198.30160489383772,\n",
       " 218.7320298567815,\n",
       " 1.5052773471026777,\n",
       " 239.19302393009326,\n",
       " 1043.605296295635,\n",
       " 151.4288976153469,\n",
       " 107.683157684714,\n",
       " 44.074616524229036,\n",
       " 1068.976602676895,\n",
       " 2775.009414964622,\n",
       " 72.17633740823543,\n",
       " 1505.1873573067335,\n",
       " 43.904622692529195,\n",
       " 321.25399622839655,\n",
       " 348.1263390938206,\n",
       " 2498.4921296187144,\n",
       " 1468.7102982526058,\n",
       " 561.867221786046,\n",
       " 6.002251517673239,\n",
       " 2190.35541289307,\n",
       " 3.597442595149645,\n",
       " 282.64037838454334,\n",
       " 7567.14626171069,\n",
       " 20.82203885681846,\n",
       " 1730.68126788772,\n",
       " 0.06754436057380311,\n",
       " 254.31118518663234,\n",
       " 1705.8721207871258,\n",
       " 1371.1150803205794,\n",
       " 1319.863792500451,\n",
       " 776.3559954615891,\n",
       " 528.7338431958793,\n",
       " 5.280907829897469,\n",
       " 1649.3622895686376]"
      ]
     },
     "execution_count": 206,
     "metadata": {},
     "output_type": "execute_result"
    }
   ],
   "source": [
    "error[10][10]"
   ]
  },
  {
   "cell_type": "code",
   "execution_count": 193,
   "metadata": {},
   "outputs": [
    {
     "data": {
      "text/plain": [
       "DecisionTreeRegressor(criterion='mse', max_depth=10, max_features=5,\n",
       "           max_leaf_nodes=None, min_impurity_decrease=0.0,\n",
       "           min_impurity_split=None, min_samples_leaf=1,\n",
       "           min_samples_split=2, min_weight_fraction_leaf=0.0,\n",
       "           presort=False, random_state=None, splitter='best')"
      ]
     },
     "execution_count": 193,
     "metadata": {},
     "output_type": "execute_result"
    }
   ],
   "source": [
    "TR.fit(train_x,train_y)"
   ]
  },
  {
   "cell_type": "code",
   "execution_count": 194,
   "metadata": {},
   "outputs": [],
   "source": [
    "from sklearn.metrics import mean_squared_error"
   ]
  },
  {
   "cell_type": "code",
   "execution_count": 195,
   "metadata": {},
   "outputs": [
    {
     "data": {
      "text/plain": [
       "421.862125888394"
      ]
     },
     "execution_count": 195,
     "metadata": {},
     "output_type": "execute_result"
    }
   ],
   "source": [
    "mean_squared_error(TR.predict(train_x),train_y)"
   ]
  },
  {
   "cell_type": "code",
   "execution_count": null,
   "metadata": {},
   "outputs": [],
   "source": []
  }
 ],
 "metadata": {
  "kernelspec": {
   "display_name": "Python 3",
   "language": "python",
   "name": "python3"
  },
  "language_info": {
   "codemirror_mode": {
    "name": "ipython",
    "version": 3
   },
   "file_extension": ".py",
   "mimetype": "text/x-python",
   "name": "python",
   "nbconvert_exporter": "python",
   "pygments_lexer": "ipython3",
   "version": "3.6.8"
  }
 },
 "nbformat": 4,
 "nbformat_minor": 2
}
