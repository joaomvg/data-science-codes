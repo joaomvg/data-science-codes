{
 "cells": [
  {
   "cell_type": "code",
   "execution_count": 57,
   "metadata": {},
   "outputs": [],
   "source": [
    "import multiprocessing as mp\n",
    "import numpy as np\n",
    "import pandas as pd\n",
    "from sklearn.datasets import load_breast_cancer"
   ]
  },
  {
   "cell_type": "code",
   "execution_count": 213,
   "metadata": {},
   "outputs": [],
   "source": [
    "class LinearLayer:\n",
    "    def __init__(self,dim_in,dim_out):\n",
    "        self.n_in=dim_in\n",
    "        self.n_out=dim_out\n",
    "        self.weights=np.random.normal(0,0.01,(dim_in,dim_out))\n",
    "        self.bias=np.random.normal(0,0.01,dim_out)\n",
    "        \n",
    "    def __call__(self,x):\n",
    "        out=np.matmul(x,self.weights)\n",
    "        out+=self.bias\n",
    "        \n",
    "        return out\n",
    "    \n",
    "    def backward(self,x):\n",
    "        dL=x\n",
    "        \n",
    "        return dL\n",
    "\n",
    "class Sigmoid:\n",
    "    \"sigmoid function\"\n",
    "    \n",
    "    def __call__(self,x):\n",
    "        out=1/(1+np.exp(-x))\n",
    "        \n",
    "        return out\n",
    "    \n",
    "    def backward(self,x):\n",
    "        out=np.exp(-x)/(1+np.exp(-x))**2\n",
    "        return out"
   ]
  },
  {
   "cell_type": "code",
   "execution_count": 283,
   "metadata": {},
   "outputs": [],
   "source": [
    "s=Sigmoid()"
   ]
  },
  {
   "cell_type": "code",
   "execution_count": 289,
   "metadata": {},
   "outputs": [
    {
     "data": {
      "text/plain": [
       "4.539580773595167e-05"
      ]
     },
     "execution_count": 289,
     "metadata": {},
     "output_type": "execute_result"
    }
   ],
   "source": [
    "s.backward(-10)"
   ]
  },
  {
   "cell_type": "code",
   "execution_count": 408,
   "metadata": {},
   "outputs": [],
   "source": [
    "class NN:\n",
    "    \"\"\" Neural Network with one hidden layer\"\"\"\n",
    "    \n",
    "    def __init__(self,dim_in,hidden_dim,dim_out):\n",
    "        self.layer1=LinearLayer(dim_in,hidden_dim)\n",
    "        self.layer2=LinearLayer(hidden_dim,dim_out)\n",
    "        self.sig=Sigmoid()\n",
    "        self.delta=None\n",
    "        \n",
    "    def __call__(self,x):\n",
    "        self.out_l1=self.layer1(x)\n",
    "        self.out_s1=self.sig(self.out_l1)\n",
    "        self.out_l2=self.layer2(self.out_s1)\n",
    "        self.out_s2=self.sig(self.out_l2)\n",
    "        \n",
    "        return self.out_s2\n",
    "    \n",
    "    def predict(self,x):\n",
    "        p=self(x)\n",
    "        \n",
    "        pred=(p>=0.5).astype('int')\n",
    "        \n",
    "        return pred\n",
    "\n",
    "class logloss:\n",
    "    \n",
    "    def __init__(self,model):\n",
    "        self.model=model\n",
    "        \n",
    "    def __call__(self,x,y):\n",
    "        p=self.model(x)\n",
    "        L=y*np.log(p)+(1-y)*np.log(1-p)\n",
    "        \n",
    "        return -L.sum()/x.shape[0]\n",
    "    \n",
    "    def backward(self,x,y):\n",
    "        p=self.model(x)\n",
    "        dL=-y/p+(1-y)/(1-p)\n",
    "        dL=dL/x.shape[0]\n",
    "        dL=dL*model.sig.backward(model.out_l2)\n",
    "        dw2,db2=np.dot(model.out_s1.T,dL),dL.sum()\n",
    "        \n",
    "        dw1=model.layer2.weights.T*model.sig.backward(model.out_l1)\n",
    "        db1=(dL*dw1).sum(0)\n",
    "        dw1=np.dot((dL*x).T,dw1)\n",
    "        \n",
    "        model.delta=db1,dw1,db2,dw2\n",
    "    \n",
    "class optimizer:\n",
    "    \n",
    "    def __init__(self,model,lr=0.01):\n",
    "        self.model=model\n",
    "        self.lr=lr\n",
    "        \n",
    "    def step(self):\n",
    "        \n",
    "        db1,dw1,db2,dw2=model.delta\n",
    "        self.model.layer1.bias-=db1*self.lr\n",
    "        self.model.layer1.weights-=dw1*self.lr\n",
    "        self.model.layer2.bias-=db2*self.lr\n",
    "        self.model.layer2.weights-=dw2*self.lr"
   ]
  },
  {
   "cell_type": "code",
   "execution_count": 439,
   "metadata": {},
   "outputs": [],
   "source": [
    "def train(optimizer,loss,xtrain,ytrain,num_iter=100):\n",
    "    \n",
    "    for i in range(num_iter):\n",
    "        \n",
    "        L=loss(xtrain,ytrain)\n",
    "        loss.backward(xtrain,ytrain)\n",
    "        optimizer.step()\n",
    "        \n",
    "        if i%10==0:\n",
    "            print('Iteration ',i,', loss: ',L)"
   ]
  },
  {
   "cell_type": "code",
   "execution_count": 58,
   "metadata": {},
   "outputs": [],
   "source": [
    "data=load_breast_cancer()"
   ]
  },
  {
   "cell_type": "code",
   "execution_count": 66,
   "metadata": {},
   "outputs": [],
   "source": [
    "x=data['data']\n",
    "y=data['target']"
   ]
  },
  {
   "cell_type": "code",
   "execution_count": 473,
   "metadata": {},
   "outputs": [],
   "source": [
    "model=NN(30,50,1)\n",
    "loss=logloss(model)\n",
    "opt=optimizer(model,lr=1)"
   ]
  },
  {
   "cell_type": "code",
   "execution_count": 354,
   "metadata": {},
   "outputs": [],
   "source": [
    "opt.lr=0.01"
   ]
  },
  {
   "cell_type": "code",
   "execution_count": null,
   "metadata": {},
   "outputs": [],
   "source": [
    "train(opt,loss,x,y,num_iter=1000)"
   ]
  },
  {
   "cell_type": "code",
   "execution_count": 311,
   "metadata": {},
   "outputs": [],
   "source": [
    "def accuracy(y_pred,y_true):\n",
    "    acc=(y_pred==y_true).sum()\n",
    "    \n",
    "    return acc/y_pred.shape[0] "
   ]
  },
  {
   "cell_type": "code",
   "execution_count": 477,
   "metadata": {},
   "outputs": [
    {
     "data": {
      "text/plain": [
       "0.9050966608084359"
      ]
     },
     "execution_count": 477,
     "metadata": {},
     "output_type": "execute_result"
    }
   ],
   "source": [
    "accuracy(model.predict(x),y)"
   ]
  },
  {
   "cell_type": "code",
   "execution_count": null,
   "metadata": {},
   "outputs": [],
   "source": []
  }
 ],
 "metadata": {
  "kernelspec": {
   "display_name": "Python 3",
   "language": "python",
   "name": "python3"
  },
  "language_info": {
   "codemirror_mode": {
    "name": "ipython",
    "version": 3
   },
   "file_extension": ".py",
   "mimetype": "text/x-python",
   "name": "python",
   "nbconvert_exporter": "python",
   "pygments_lexer": "ipython3",
   "version": "3.7.6"
  }
 },
 "nbformat": 4,
 "nbformat_minor": 4
}
