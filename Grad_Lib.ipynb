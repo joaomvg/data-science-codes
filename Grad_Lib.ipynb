{
 "metadata": {
  "language_info": {
   "codemirror_mode": {
    "name": "ipython",
    "version": 3
   },
   "file_extension": ".py",
   "mimetype": "text/x-python",
   "name": "python",
   "nbconvert_exporter": "python",
   "pygments_lexer": "ipython3",
   "version": "3.6.8-final"
  },
  "orig_nbformat": 2,
  "kernelspec": {
   "name": "python3",
   "display_name": "Python 3",
   "language": "python"
  }
 },
 "nbformat": 4,
 "nbformat_minor": 2,
 "cells": [
  {
   "cell_type": "code",
   "execution_count": 2,
   "metadata": {},
   "outputs": [],
   "source": [
    "import numpy as np\n",
    "import pandas as pd"
   ]
  },
  {
   "cell_type": "code",
   "execution_count": 3,
   "metadata": {},
   "outputs": [
    {
     "output_type": "execute_result",
     "data": {
      "text/plain": [
       "'1.14.2'"
      ]
     },
     "metadata": {},
     "execution_count": 3
    }
   ],
   "source": [
    "np.__version__"
   ]
  },
  {
   "cell_type": "code",
   "execution_count": 244,
   "metadata": {},
   "outputs": [],
   "source": [
    "class Tensor:\n",
    "    def __init__(self,array,grad=None,requires_grad=False,name='w1'):\n",
    "        self.array=array\n",
    "        self.__requires_grad=requires_grad\n",
    "         \n",
    "        if requires_grad:\n",
    "            #name of the parameter\n",
    "            self.grad={name: self.make_grad()}\n",
    "        else:\n",
    "            self.grad={name: 0}\n",
    "        if grad is not None:\n",
    "            self.grad=grad\n",
    "\n",
    "    def make_grad(self,):\n",
    "        shape=self.array.shape\n",
    "        Kron=1\n",
    "        for d in shape:\n",
    "            ID=np.identity(d)\n",
    "            Kron=np.tensordot(Kron,ID,axes=0)\n",
    "        new_shape=[i for i in range(0,2*len(shape),2)]\n",
    "        new_shape+=[i for i in range(1,2*len(shape),2)]\n",
    "        Kron=Kron.transpose(new_shape)\n",
    "\n",
    "        return Kron\n",
    "    @property\n",
    "    def shape(self):\n",
    "        return self.array.shape\n",
    "    @property\n",
    "    def ndim(self):\n",
    "        return self.array.ndim\n",
    "    @property\n",
    "    def grad_shape(self):\n",
    "        return self.grad.shape\n",
    "\n",
    "    def __add__(self,x):\n",
    "        result=self.array+x.array\n",
    "\n",
    "        grad={}\n",
    "        for w in self.grad:\n",
    "            if w not in x.grad:\n",
    "                x.grad[w]=0\n",
    "            else:\n",
    "                grad[w]=self.grad[w]+x.grad[w]\n",
    "        for w in x.grad:\n",
    "            if w not in self.grad:\n",
    "                self.grad[w]=0\n",
    "\n",
    "        return Tensor(result,grad=grad)\n",
    "\n",
    "    def __mul__(self,x):\n",
    "        if isinstance(x,int) or isinstance(x,float):\n",
    "            result=x*self.array\n",
    "            grad=x*self.grad\n",
    "\n",
    "        if isinstance(x,Tensor):\n",
    "            result=np.tensordot(self.array,x.array,axes=([-1],[0]))\n",
    "\n",
    "            for w in self.grad:\n",
    "                if w not in x.grad:\n",
    "                    x.grad[w]=0\n",
    "            for w in x.grad:\n",
    "                if w not in self.grad:\n",
    "                    self.grad[w]=0\n",
    "\n",
    "            grad={}\n",
    "            for w in self.grad:\n",
    "                if x.grad[w] is 0:\n",
    "                    grad1=0\n",
    "                else:\n",
    "                    grad1=np.tensordot(self.array,x.grad[w],axes=([-1],[0]))\n",
    "                    \n",
    "                if self.grad[w] is 0:\n",
    "                    grad2=0\n",
    "                else:\n",
    "                    i=len(self.array.shape)\n",
    "                    grad2=np.tensordot(self.grad[w],x.array,axes=([i-1],[0]))\n",
    "                    n1=self.grad[w].ndim\n",
    "                    n2=self.array.ndim\n",
    "                    n3=x.array.ndim\n",
    "                    r1=[j for j in range(n2-1)]+[j for j in range(n1-1,n1+n3-2)]\n",
    "                    r2=[j for j in range(n2-1,n1-1)]\n",
    "                    grad2=grad2.transpose(r1+r2)\n",
    "                \n",
    "                grad[w]=grad1+grad2\n",
    "\n",
    "        return Tensor(result,grad=grad)\n",
    "    \n",
    "    def __rmul__(self, x):\n",
    "        if isinstance(x,int) or isinstance(x,float):\n",
    "            result=x*self.array\n",
    "            grad=x*self.grad\n",
    "        \n",
    "        return Tensor(result,grad=grad)\n",
    "\n",
    "    def sum(self,axis):\n",
    "        result=self.array.sum(axis=axis)\n",
    "        grad={}\n",
    "        for w in self.grad:\n",
    "            grad[w]=self.grad[w].sum(axis=axis)\n",
    "        return Tensor(result,grad=grad)\n",
    "\n",
    "    def __repr__(self):\n",
    "\n",
    "        return f'Tensor({self.array},dtype {self.array.dtype},requires_grad={self.__requires_grad})'"
   ]
  },
  {
   "cell_type": "code",
   "execution_count": 271,
   "metadata": {},
   "outputs": [],
   "source": [
    "class Sigmoid:\n",
    "    \"\"\"\n",
    "    returns: Tensor with gradients\n",
    "    \"\"\"\n",
    "    def __call__(self,x):\n",
    "\n",
    "        out=1/(1+np.exp(-x.array))\n",
    "        grad={}\n",
    "        for w in x.grad:\n",
    "            grad[w]=self.grad(x)*x.grad[w]\n",
    "\n",
    "        return Tensor(out,grad=grad) \n",
    "\n",
    "    def grad(self,x):\n",
    "        den=(1+np.exp(-x.array))*(1+np.exp(-x.array))\n",
    "        gd=np.exp(-x.array)/den\n",
    "\n",
    "        return gd\n",
    "\n",
    "class Exp:\n",
    "    \"\"\"\n",
    "    returns: Tensor with gradients\n",
    "    \"\"\"\n",
    "    def __call__(self,x):\n",
    "\n",
    "        out=np.exp(x.array)\n",
    "        grad=self.grad(x)*x.grad\n",
    "\n",
    "        return Tensor(out,grad=grad) \n",
    "    \n",
    "    def grad(self,x):\n",
    "        gd=np.exp(x.array)\n",
    "        return gd\n"
   ]
  },
  {
   "cell_type": "code",
   "execution_count": 262,
   "metadata": {},
   "outputs": [],
   "source": [
    "x=np.random.rand(3,5)\n",
    "y=np.random.rand(5,1)"
   ]
  },
  {
   "cell_type": "code",
   "execution_count": 266,
   "metadata": {},
   "outputs": [],
   "source": [
    "X=Tensor(x,requires_grad=True,name='w1')\n",
    "Y=Tensor(y,requires_grad=True,name='w2')"
   ]
  },
  {
   "cell_type": "code",
   "execution_count": 269,
   "metadata": {},
   "outputs": [],
   "source": [
    "z=np.random.rand(1,3)\n",
    "Z=Tensor(z)"
   ]
  },
  {
   "cell_type": "code",
   "execution_count": 272,
   "metadata": {},
   "outputs": [],
   "source": [
    "sig=Sigmoid()"
   ]
  },
  {
   "cell_type": "code",
   "execution_count": 273,
   "metadata": {},
   "outputs": [],
   "source": [
    "out=Z*X\n",
    "out=sig(out)\n",
    "out=out*Y"
   ]
  },
  {
   "cell_type": "code",
   "execution_count": 274,
   "metadata": {},
   "outputs": [
    {
     "output_type": "execute_result",
     "data": {
      "text/plain": [
       "(1, 1)"
      ]
     },
     "metadata": {},
     "execution_count": 274
    }
   ],
   "source": [
    "out.shape"
   ]
  },
  {
   "cell_type": "code",
   "execution_count": 277,
   "metadata": {},
   "outputs": [
    {
     "output_type": "execute_result",
     "data": {
      "text/plain": [
       "(1, 1, 3, 5)"
      ]
     },
     "metadata": {},
     "execution_count": 277
    }
   ],
   "source": [
    "out.grad['w1'].shape"
   ]
  },
  {
   "cell_type": "code",
   "execution_count": null,
   "metadata": {},
   "outputs": [],
   "source": []
  }
 ]
}