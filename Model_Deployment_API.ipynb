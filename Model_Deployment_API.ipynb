{
 "cells": [
  {
   "cell_type": "code",
   "execution_count": 1,
   "metadata": {},
   "outputs": [],
   "source": [
    "import logging\n",
    "import boto3\n",
    "from botocore.exceptions import ClientError\n",
    "import sagemaker"
   ]
  },
  {
   "cell_type": "code",
   "execution_count": 2,
   "metadata": {},
   "outputs": [],
   "source": [
    "session = boto3.Session(profile_name='default',region_name='us-east-2')"
   ]
  },
  {
   "cell_type": "code",
   "execution_count": 3,
   "metadata": {},
   "outputs": [],
   "source": [
    "sagemaker_session = sagemaker.Session(boto_session=session)"
   ]
  },
  {
   "cell_type": "code",
   "execution_count": 4,
   "metadata": {},
   "outputs": [],
   "source": [
    "bucket = sagemaker_session.default_bucket()\n",
    "role = sagemaker.get_execution_role(sagemaker_session=sagemaker_session)"
   ]
  },
  {
   "cell_type": "code",
   "execution_count": 5,
   "metadata": {},
   "outputs": [
    {
     "data": {
      "text/plain": [
       "'sagemaker-us-east-2-113516067754'"
      ]
     },
     "execution_count": 5,
     "metadata": {},
     "output_type": "execute_result"
    }
   ],
   "source": [
    "bucket"
   ]
  },
  {
   "cell_type": "code",
   "execution_count": 6,
   "metadata": {},
   "outputs": [],
   "source": [
    "data_dir='../aws_test'"
   ]
  },
  {
   "cell_type": "code",
   "execution_count": 7,
   "metadata": {},
   "outputs": [],
   "source": [
    "input_data = sagemaker_session.upload_data(path=data_dir, bucket=bucket, key_prefix='test_data')"
   ]
  },
  {
   "cell_type": "code",
   "execution_count": 2,
   "metadata": {},
   "outputs": [],
   "source": [
    "from sklearn.datasets import load_iris"
   ]
  },
  {
   "cell_type": "code",
   "execution_count": 3,
   "metadata": {},
   "outputs": [],
   "source": [
    "iris=load_iris()"
   ]
  },
  {
   "cell_type": "code",
   "execution_count": 4,
   "metadata": {},
   "outputs": [],
   "source": [
    "X=iris['data']\n",
    "y=iris['target']"
   ]
  },
  {
   "cell_type": "code",
   "execution_count": 5,
   "metadata": {},
   "outputs": [
    {
     "output_type": "execute_result",
     "data": {
      "text/plain": [
       "(150, 4)"
      ]
     },
     "metadata": {},
     "execution_count": 5
    }
   ],
   "source": [
    "X.shape"
   ]
  },
  {
   "cell_type": "code",
   "execution_count": 6,
   "metadata": {},
   "outputs": [],
   "source": [
    "from sklearn.linear_model import LogisticRegression\n",
    "from sklearn.metrics import accuracy_score"
   ]
  },
  {
   "cell_type": "code",
   "execution_count": 7,
   "metadata": {},
   "outputs": [],
   "source": [
    "lgr=LogisticRegression()"
   ]
  },
  {
   "cell_type": "code",
   "execution_count": 8,
   "metadata": {},
   "outputs": [
    {
     "output_type": "execute_result",
     "data": {
      "text/plain": [
       "LogisticRegression()"
      ]
     },
     "metadata": {},
     "execution_count": 8
    }
   ],
   "source": [
    "lgr.fit(X,y)"
   ]
  },
  {
   "cell_type": "code",
   "execution_count": 9,
   "metadata": {},
   "outputs": [
    {
     "output_type": "execute_result",
     "data": {
      "text/plain": [
       "0.9733333333333334"
      ]
     },
     "metadata": {},
     "execution_count": 9
    }
   ],
   "source": [
    "accuracy_score(lgr.predict(X),y)"
   ]
  },
  {
   "cell_type": "code",
   "execution_count": 21,
   "metadata": {},
   "outputs": [],
   "source": [
    "import pickle"
   ]
  },
  {
   "cell_type": "code",
   "execution_count": 22,
   "metadata": {},
   "outputs": [],
   "source": [
    "pickle.dump(lgr,open('model_lgr.pkl','wb'))"
   ]
  },
  {
   "cell_type": "code",
   "execution_count": 48,
   "metadata": {},
   "outputs": [],
   "source": [
    "input_data = sagemaker_session.upload_data(path='./model.tar.gz', bucket=bucket, key_prefix='model_lgr')"
   ]
  },
  {
   "cell_type": "code",
   "execution_count": 8,
   "metadata": {},
   "outputs": [],
   "source": [
    "input_data='s3://sagemaker-us-east-2-113516067754/model_lgr/model.tar.gz'"
   ]
  },
  {
   "cell_type": "markdown",
   "metadata": {},
   "source": [
    "# Deployment"
   ]
  },
  {
   "cell_type": "code",
   "execution_count": 6,
   "metadata": {},
   "outputs": [],
   "source": [
    "from sagemaker.sklearn.model import SKLearnModel"
   ]
  },
  {
   "cell_type": "code",
   "execution_count": 21,
   "metadata": {},
   "outputs": [],
   "source": [
    "import os, json"
   ]
  },
  {
   "cell_type": "code",
   "execution_count": 31,
   "metadata": {},
   "outputs": [
    {
     "data": {
      "text/plain": [
       "'0.23.2'"
      ]
     },
     "execution_count": 31,
     "metadata": {},
     "output_type": "execute_result"
    }
   ],
   "source": [
    "sklearn.__version__"
   ]
  },
  {
   "cell_type": "code",
   "execution_count": 7,
   "metadata": {},
   "outputs": [
    {
     "data": {
      "text/plain": [
       "'arn:aws:iam::113516067754:role/service-role/AmazonSageMaker-ExecutionRole-20200513T111076'"
      ]
     },
     "execution_count": 7,
     "metadata": {},
     "output_type": "execute_result"
    }
   ],
   "source": [
    "role"
   ]
  },
  {
   "cell_type": "code",
   "execution_count": 50,
   "metadata": {},
   "outputs": [],
   "source": [
    "sklearn_model=SKLearnModel(model_data=input_data,\n",
    "                             role=role,\n",
    "                             entry_point=\"lgr_aws.py\",\n",
    "                             framework_version=\"0.23-1\",\n",
    "                            source_dir=\"aws_test\",\n",
    "                            dependencies=['./aws_test/model']\n",
    "                            )"
   ]
  },
  {
   "cell_type": "code",
   "execution_count": 51,
   "metadata": {},
   "outputs": [
    {
     "name": "stdout",
     "output_type": "stream",
     "text": [
      "-----------------!"
     ]
    }
   ],
   "source": [
    "predictor=sklearn_model.deploy(initial_instance_count=1,instance_type='ml.t2.medium')"
   ]
  },
  {
   "cell_type": "code",
   "execution_count": 19,
   "metadata": {},
   "outputs": [],
   "source": [
    "from sagemaker.predictor import json_serializer, json_deserializer"
   ]
  },
  {
   "cell_type": "code",
   "execution_count": 20,
   "metadata": {},
   "outputs": [],
   "source": [
    "predictor.serializer=json_serializer\n",
    "predictor.deserializer=json_deserializer"
   ]
  },
  {
   "cell_type": "code",
   "execution_count": 24,
   "metadata": {},
   "outputs": [],
   "source": [
    "predictor.content_type='application/json'\n",
    "predictor.accept='application/json'"
   ]
  },
  {
   "cell_type": "code",
   "execution_count": 29,
   "metadata": {},
   "outputs": [],
   "source": [
    "data={'X':X[0:1].tolist()}"
   ]
  },
  {
   "cell_type": "code",
   "execution_count": 30,
   "metadata": {},
   "outputs": [
    {
     "data": {
      "text/plain": [
       "'{\"X\": [[5.1, 3.5, 1.4, 0.2]]}'"
      ]
     },
     "execution_count": 30,
     "metadata": {},
     "output_type": "execute_result"
    }
   ],
   "source": [
    "json.dumps(data)"
   ]
  },
  {
   "cell_type": "code",
   "execution_count": 25,
   "metadata": {},
   "outputs": [],
   "source": [
    "pred=predictor.predict(data)"
   ]
  },
  {
   "cell_type": "code",
   "execution_count": 52,
   "metadata": {},
   "outputs": [],
   "source": [
    "predictor.delete_endpoint()"
   ]
  },
  {
   "cell_type": "code",
   "execution_count": 54,
   "metadata": {},
   "outputs": [
    {
     "data": {
      "text/plain": [
       "'sklearn.datasets._base'"
      ]
     },
     "execution_count": 54,
     "metadata": {},
     "output_type": "execute_result"
    }
   ],
   "source": [
    "load_iris.__module__"
   ]
  },
  {
   "source": [
    "# Local Mode"
   ],
   "cell_type": "markdown",
   "metadata": {}
  },
  {
   "cell_type": "code",
   "execution_count": 12,
   "metadata": {},
   "outputs": [],
   "source": [
    "from sagemaker.local import LocalSession"
   ]
  },
  {
   "cell_type": "code",
   "execution_count": 10,
   "metadata": {},
   "outputs": [],
   "source": [
    "from sagemaker.sklearn.model import SKLearnModel"
   ]
  },
  {
   "cell_type": "code",
   "execution_count": 13,
   "metadata": {},
   "outputs": [],
   "source": [
    "sagemaker_session = LocalSession()\n",
    "sagemaker_session.config = {'local': {'local_code': True}}"
   ]
  },
  {
   "cell_type": "code",
   "execution_count": 14,
   "metadata": {},
   "outputs": [],
   "source": [
    "role = 'arn:aws:iam::111111111111:role/service-role/AmazonSageMaker-ExecutionRole-20200101T000001'"
   ]
  },
  {
   "cell_type": "code",
   "execution_count": 24,
   "metadata": {},
   "outputs": [],
   "source": [
    "sklearn_model=SKLearnModel(model_data='file://./model.tar.gz',\n",
    "                             role=role,\n",
    "                             entry_point=\"lgr_aws.py\",\n",
    "                             framework_version=\"0.23-1\",\n",
    "                            source_dir=\"aws_deploy\",\n",
    "                            dependencies=['./aws_deploy/model']\n",
    "                            )"
   ]
  },
  {
   "cell_type": "code",
   "execution_count": 26,
   "metadata": {},
   "outputs": [
    {
     "output_type": "stream",
     "name": "stderr",
     "text": [
      "Using the short-lived AWS credentials found in session. They might expire while running.\n",
      "Attaching to tmps3rq3cpu_algo-1-hhv9q_1\n",
      "\u001b[36malgo-1-hhv9q_1  |\u001b[0m 2021-01-11 20:46:20,830 INFO - sagemaker-containers - No GPUs detected (normal if no gpus installed)\n",
      "\u001b[36malgo-1-hhv9q_1  |\u001b[0m 2021-01-11 20:46:20,837 INFO - sagemaker-containers - No GPUs detected (normal if no gpus installed)\n",
      "\u001b[36malgo-1-hhv9q_1  |\u001b[0m 2021-01-11 20:46:20,839 INFO - sagemaker-containers - nginx config: \n",
      "\u001b[36malgo-1-hhv9q_1  |\u001b[0m worker_processes auto;\n",
      "\u001b[36malgo-1-hhv9q_1  |\u001b[0m daemon off;\n",
      "\u001b[36malgo-1-hhv9q_1  |\u001b[0m pid /tmp/nginx.pid;\n",
      "\u001b[36malgo-1-hhv9q_1  |\u001b[0m error_log  /dev/stderr;\n",
      "\u001b[36malgo-1-hhv9q_1  |\u001b[0m \n",
      "\u001b[36malgo-1-hhv9q_1  |\u001b[0m worker_rlimit_nofile 4096;\n",
      "\u001b[36malgo-1-hhv9q_1  |\u001b[0m \n",
      "\u001b[36malgo-1-hhv9q_1  |\u001b[0m events {\n",
      "\u001b[36malgo-1-hhv9q_1  |\u001b[0m   worker_connections 2048;\n",
      "\u001b[36malgo-1-hhv9q_1  |\u001b[0m }\n",
      "\u001b[36malgo-1-hhv9q_1  |\u001b[0m \n",
      "\u001b[36malgo-1-hhv9q_1  |\u001b[0m http {\n",
      "\u001b[36malgo-1-hhv9q_1  |\u001b[0m   include /etc/nginx/mime.types;\n",
      "\u001b[36malgo-1-hhv9q_1  |\u001b[0m   default_type application/octet-stream;\n",
      "\u001b[36malgo-1-hhv9q_1  |\u001b[0m   access_log /dev/stdout combined;\n",
      "\u001b[36malgo-1-hhv9q_1  |\u001b[0m \n",
      "\u001b[36malgo-1-hhv9q_1  |\u001b[0m   upstream gunicorn {\n",
      "\u001b[36malgo-1-hhv9q_1  |\u001b[0m     server unix:/tmp/gunicorn.sock;\n",
      "\u001b[36malgo-1-hhv9q_1  |\u001b[0m   }\n",
      "\u001b[36malgo-1-hhv9q_1  |\u001b[0m \n",
      "\u001b[36malgo-1-hhv9q_1  |\u001b[0m   server {\n",
      "\u001b[36malgo-1-hhv9q_1  |\u001b[0m     listen 8080 deferred;\n",
      "\u001b[36malgo-1-hhv9q_1  |\u001b[0m     client_max_body_size 0;\n",
      "\u001b[36malgo-1-hhv9q_1  |\u001b[0m \n",
      "\u001b[36malgo-1-hhv9q_1  |\u001b[0m     keepalive_timeout 3;\n",
      "\u001b[36malgo-1-hhv9q_1  |\u001b[0m \n",
      "\u001b[36malgo-1-hhv9q_1  |\u001b[0m     location ~ ^/(ping|invocations|execution-parameters) {\n",
      "\u001b[36malgo-1-hhv9q_1  |\u001b[0m       proxy_set_header X-Forwarded-For $proxy_add_x_forwarded_for;\n",
      "\u001b[36malgo-1-hhv9q_1  |\u001b[0m       proxy_set_header Host $http_host;\n",
      "\u001b[36malgo-1-hhv9q_1  |\u001b[0m       proxy_redirect off;\n",
      "\u001b[36malgo-1-hhv9q_1  |\u001b[0m       proxy_read_timeout 60s;\n",
      "\u001b[36malgo-1-hhv9q_1  |\u001b[0m       proxy_pass http://gunicorn;\n",
      "\u001b[36malgo-1-hhv9q_1  |\u001b[0m     }\n",
      "\u001b[36malgo-1-hhv9q_1  |\u001b[0m \n",
      "\u001b[36malgo-1-hhv9q_1  |\u001b[0m     location / {\n",
      "\u001b[36malgo-1-hhv9q_1  |\u001b[0m       return 404 \"{}\";\n",
      "\u001b[36malgo-1-hhv9q_1  |\u001b[0m     }\n",
      "\u001b[36malgo-1-hhv9q_1  |\u001b[0m \n",
      "\u001b[36malgo-1-hhv9q_1  |\u001b[0m   }\n",
      "\u001b[36malgo-1-hhv9q_1  |\u001b[0m }\n",
      "\u001b[36malgo-1-hhv9q_1  |\u001b[0m \n",
      "\u001b[36malgo-1-hhv9q_1  |\u001b[0m \n",
      "\u001b[36malgo-1-hhv9q_1  |\u001b[0m 2021-01-11 20:46:21,179 INFO - sagemaker-containers - Module lgr_aws does not provide a setup.py. \n",
      "\u001b[36malgo-1-hhv9q_1  |\u001b[0m Generating setup.py\n",
      "\u001b[36malgo-1-hhv9q_1  |\u001b[0m 2021-01-11 20:46:21,179 INFO - sagemaker-containers - Generating setup.cfg\n",
      "\u001b[36malgo-1-hhv9q_1  |\u001b[0m 2021-01-11 20:46:21,181 INFO - sagemaker-containers - Generating MANIFEST.in\n",
      "\u001b[36malgo-1-hhv9q_1  |\u001b[0m 2021-01-11 20:46:21,185 INFO - sagemaker-containers - Installing module with the following command:\n",
      "\u001b[36malgo-1-hhv9q_1  |\u001b[0m /miniconda3/bin/python -m pip install . \n",
      "\u001b[36malgo-1-hhv9q_1  |\u001b[0m Processing /opt/ml/code\n",
      "\u001b[36malgo-1-hhv9q_1  |\u001b[0m Building wheels for collected packages: lgr-aws\n",
      "\u001b[36malgo-1-hhv9q_1  |\u001b[0m   Building wheel for lgr-aws (setup.py) ... \u001b[?25ldone\n",
      "\u001b[36malgo-1-hhv9q_1  |\u001b[0m \u001b[?25h  Created wheel for lgr-aws: filename=lgr_aws-1.0.0-py2.py3-none-any.whl size=5105 sha256=19e630093ac56162566d3caf8042b8b18ff965c8672ff1385bb8114afcbf27d9\n",
      "\u001b[36malgo-1-hhv9q_1  |\u001b[0m   Stored in directory: /home/model-server/tmp/pip-ephem-wheel-cache-mpn7erpz/wheels/3e/0f/51/2f1df833dd0412c1bc2f5ee56baac195b5be563353d111dca6\n",
      "\u001b[36malgo-1-hhv9q_1  |\u001b[0m Successfully built lgr-aws\n",
      "\u001b[36malgo-1-hhv9q_1  |\u001b[0m Installing collected packages: lgr-aws\n",
      "\u001b[36malgo-1-hhv9q_1  |\u001b[0m Successfully installed lgr-aws-1.0.0\n",
      "\u001b[36malgo-1-hhv9q_1  |\u001b[0m 2021/01/11 20:46:23 [crit] 15#15: *1 connect() to unix:/tmp/gunicorn.sock failed (2: No such file or directory) while connecting to upstream, client: 172.18.0.1, server: , request: \"GET /ping HTTP/1.1\", upstream: \"http://unix:/tmp/gunicorn.sock:/ping\", host: \"localhost:8080\"\n",
      "\u001b[36malgo-1-hhv9q_1  |\u001b[0m 172.18.0.1 - - [11/Jan/2021:20:46:23 +0000] \"GET /ping HTTP/1.1\" 502 182 \"-\" \"-\"\n",
      "\u001b[36malgo-1-hhv9q_1  |\u001b[0m [2021-01-11 20:46:25 +0000] [31] [INFO] Starting gunicorn 20.0.4\n",
      "\u001b[36malgo-1-hhv9q_1  |\u001b[0m [2021-01-11 20:46:25 +0000] [31] [INFO] Listening at: unix:/tmp/gunicorn.sock (31)\n",
      "\u001b[36malgo-1-hhv9q_1  |\u001b[0m [2021-01-11 20:46:25 +0000] [31] [INFO] Using worker: gevent\n",
      "\u001b[36malgo-1-hhv9q_1  |\u001b[0m [2021-01-11 20:46:25 +0000] [34] [INFO] Booting worker with pid: 34\n",
      "\u001b[36malgo-1-hhv9q_1  |\u001b[0m [2021-01-11 20:46:25 +0000] [35] [INFO] Booting worker with pid: 35\n",
      "\u001b[36malgo-1-hhv9q_1  |\u001b[0m 2021-01-11 20:46:29,002 INFO - sagemaker-containers - No GPUs detected (normal if no gpus installed)\n",
      "\u001b[36malgo-1-hhv9q_1  |\u001b[0m 2\n",
      "!\u001b[36malgo-1-hhv9q_1  |\u001b[0m 172.18.0.1 - - [11/Jan/2021:20:46:29 +0000] \"GET /ping HTTP/1.1\" 200 0 \"-\" \"-\"\n"
     ]
    },
    {
     "output_type": "execute_result",
     "data": {
      "text/plain": [
       "<sagemaker.sklearn.model.SKLearnPredictor at 0x7f89ded89550>"
      ]
     },
     "metadata": {},
     "execution_count": 26
    }
   ],
   "source": [
    "sklearn_model.deploy(initial_instance_count=1,instance_type='local')"
   ]
  },
  {
   "cell_type": "code",
   "execution_count": null,
   "metadata": {},
   "outputs": [],
   "source": []
  }
 ],
 "metadata": {
  "kernelspec": {
   "display_name": "Python 3",
   "language": "python",
   "name": "python3"
  },
  "language_info": {
   "codemirror_mode": {
    "name": "ipython",
    "version": 3
   },
   "file_extension": ".py",
   "mimetype": "text/x-python",
   "name": "python",
   "nbconvert_exporter": "python",
   "pygments_lexer": "ipython3",
   "version": "3.6.8-final"
  }
 },
 "nbformat": 4,
 "nbformat_minor": 2
}